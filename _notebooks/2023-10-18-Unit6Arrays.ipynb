{
 "cells": [
  {
   "cell_type": "markdown",
   "metadata": {},
   "source": [
    "---\n",
    "layout: post\n",
    "title: Unit 6 Lesson\n",
    "toc: true\n",
    "comments: true\n",
    "description: Lesson for APCSA Unit 6. Authors are Sreeja, Tanisha, Vivian, and Isabelle\n",
    "courses: { csa: {week: 8} }\n",
    "type: tangibles\n",
    "---"
   ]
  },
  {
   "cell_type": "markdown",
   "metadata": {},
   "source": [
    "# Hello! wget this notebook `RIGHT NOW` \n",
    "> (Find the link in 'coding' on SLACK)"
   ]
  },
  {
   "cell_type": "markdown",
   "metadata": {},
   "source": [
    "# Topic 6.1 - Array Creation and Access (Sreeja)"
   ]
  },
  {
   "cell_type": "markdown",
   "metadata": {},
   "source": [
    "## Vocabulary\n",
    "- Array: a data strucutre used to implement a collection of object referance data\n",
    "- Element: a single value within an array\n",
    "- Index of an element: position of an element in the array\n",
    "(In java, the first element of an array is at index 0)\n",
    "- Length of an array: number of elements in the array"
   ]
  },
  {
   "cell_type": "markdown",
   "metadata": {},
   "source": [
    "## Declaring an Array\n",
    "Defines the array variable, specifying its data type and name."
   ]
  },
  {
   "cell_type": "code",
   "execution_count": null,
   "metadata": {
    "vscode": {
     "languageId": "java"
    }
   },
   "outputs": [],
   "source": [
    "// Syntax: dataType[] arrayName;\n",
    "int[] numbers; // Declare an integer array\n",
    "String[] names; // Declare a string array"
   ]
  },
  {
   "cell_type": "markdown",
   "metadata": {},
   "source": [
    "## Creating an Array\n",
    "Gives memory for the array and specifies its size."
   ]
  },
  {
   "cell_type": "code",
   "execution_count": 1,
   "metadata": {
    "vscode": {
     "languageId": "java"
    }
   },
   "outputs": [
    {
     "ename": "CompilationException",
     "evalue": "",
     "output_type": "error",
     "traceback": [
      "\u001b[1m\u001b[30m|   \u001b[1m\u001b[30m\u001b[0m\u001b[1m\u001b[30m\u001b[41mnumbers\u001b[0m\u001b[1m\u001b[30m = new int[5];\u001b[0m",
      "\u001b[1m\u001b[31mcannot find symbol\u001b[0m",
      "\u001b[1m\u001b[31m  symbol:   variable numbers\u001b[0m",
      ""
     ]
    }
   ],
   "source": [
    "// Syntax: arrayName = new dataType[size];\n",
    "numbers = new int[5]; // Create an integer array with 5 elements\n",
    "names = new String[3]; // Create a string array with 3 elements"
   ]
  },
  {
   "cell_type": "markdown",
   "metadata": {},
   "source": [
    "## Initializing an Array\n",
    "Populates the array with initial values."
   ]
  },
  {
   "cell_type": "code",
   "execution_count": 2,
   "metadata": {
    "vscode": {
     "languageId": "java"
    }
   },
   "outputs": [
    {
     "ename": "CompilationException",
     "evalue": "",
     "output_type": "error",
     "traceback": [
      "\u001b[1m\u001b[30m|   \u001b[1m\u001b[30m\u001b[0m\u001b[1m\u001b[30m\u001b[41mnumbers\u001b[0m\u001b[1m\u001b[30m = new int[5];\u001b[0m",
      "\u001b[1m\u001b[31mcannot find symbol\u001b[0m",
      "\u001b[1m\u001b[31m  symbol:   variable numbers\u001b[0m",
      ""
     ]
    }
   ],
   "source": [
    "// Syntax: arrayName = new dataType[size];\n",
    "numbers = new int[5]; // Create an integer array with 5 elements\n",
    "names = new String[3]; // Create a string array with 3 elements"
   ]
  },
  {
   "cell_type": "markdown",
   "metadata": {},
   "source": [
    "## Accessing Array Elements\n",
    "Retrieves a specific element's value from the array using its index."
   ]
  },
  {
   "cell_type": "code",
   "execution_count": 3,
   "metadata": {
    "vscode": {
     "languageId": "java"
    }
   },
   "outputs": [
    {
     "name": "stdout",
     "output_type": "stream",
     "text": [
      "30\n"
     ]
    }
   ],
   "source": [
    "int[] numbers = {10, 20, 30, 40, 50};\n",
    "int element = numbers[2]; // Access the third element (30) using index 2\n",
    "System.out.println(element); // Output: 30\n"
   ]
  },
  {
   "cell_type": "markdown",
   "metadata": {},
   "source": [
    "## Array Length\n",
    "Obtains and displays the number of elements in the array."
   ]
  },
  {
   "cell_type": "code",
   "execution_count": 4,
   "metadata": {
    "vscode": {
     "languageId": "java"
    }
   },
   "outputs": [
    {
     "name": "stdout",
     "output_type": "stream",
     "text": [
      "Array length: 5\n"
     ]
    }
   ],
   "source": [
    "int[] numbers = {10, 20, 30, 40, 50};\n",
    "int length = numbers.length; // Get the length of the array\n",
    "System.out.println(\"Array length: \" + length); // Output: Array length: 5"
   ]
  },
  {
   "cell_type": "markdown",
   "metadata": {},
   "source": [
    "## Modifying Array Elements\n",
    "Updates the value of a specific element in the array."
   ]
  },
  {
   "cell_type": "code",
   "execution_count": 6,
   "metadata": {
    "vscode": {
     "languageId": "java"
    }
   },
   "outputs": [
    {
     "name": "stdout",
     "output_type": "stream",
     "text": [
      "35\n"
     ]
    }
   ],
   "source": [
    "int[] numbers = {10, 20, 30, 40, 50};\n",
    "numbers[2] = 35; // Change the third element to 35\n",
    "System.out.println(numbers[2]);"
   ]
  },
  {
   "cell_type": "markdown",
   "metadata": {},
   "source": [
    "## Iterating Through an Array\n",
    "Loops through the array, printing each element."
   ]
  },
  {
   "cell_type": "code",
   "execution_count": 8,
   "metadata": {
    "vscode": {
     "languageId": "java"
    }
   },
   "outputs": [
    {
     "name": "stdout",
     "output_type": "stream",
     "text": [
      "15\n",
      "25\n",
      "35\n",
      "45\n",
      "55\n"
     ]
    }
   ],
   "source": [
    "int[] numbers = {10, 20, 30, 40, 50};\n",
    "for (int i = 0; i < numbers.length; i++) {\n",
    "    System.out.println(numbers[i]+5);\n",
    "}"
   ]
  },
  {
   "cell_type": "markdown",
   "metadata": {},
   "source": [
    "## Enhanced For Loop (For-each)\n",
    "Iterates through the array using a simplified loop structure, printing each element."
   ]
  },
  {
   "cell_type": "code",
   "execution_count": 9,
   "metadata": {
    "vscode": {
     "languageId": "java"
    }
   },
   "outputs": [
    {
     "name": "stdout",
     "output_type": "stream",
     "text": [
      "10\n",
      "20\n",
      "30\n",
      "40\n",
      "50\n"
     ]
    }
   ],
   "source": [
    "int[] numbers = {10, 20, 30, 40, 50};\n",
    "for (int number : numbers) {\n",
    "    System.out.println(number);\n",
    "}"
   ]
  },
  {
   "cell_type": "markdown",
   "metadata": {},
   "source": [
    "# Topic 6.2 - Traversing Array (1D) (Tanisha)\n",
    "> Using iteration statements (standard for loops and while loops) to access each element in an array. \n"
   ]
  },
  {
   "cell_type": "markdown",
   "metadata": {},
   "source": [
    "## Standard For Loop\n",
    "- An array in java is indexed from 0 to the number of elements - 1. "
   ]
  },
  {
   "cell_type": "markdown",
   "metadata": {},
   "source": [
    "**Review on For Loops**\n",
    "- init: The init expression is used for initializing a variable, and it is executed only once.\n",
    "- condition: It executes the condition statement for every iteration\n",
    "- incr/decr: It is the increment or decrement statement applied to the variable, updates the initial expression.\n",
    "\n",
    "![image](https://github.com/tanishapatil1234/student/assets/111611921/ec109b9d-f3be-451f-9d87-6488a1c96e2b)\n"
   ]
  },
  {
   "cell_type": "code",
   "execution_count": null,
   "metadata": {
    "vscode": {
     "languageId": "java"
    }
   },
   "outputs": [],
   "source": [
    "import java.util.Random;\n",
    "\n",
    "/*  public class RandomArray {\n",
    "    public static void main(String[] args){\n",
    "    int [] list = new int[6];\n",
    "    Random rand = new Random(); \n",
    "*/\n",
    "    // FOR LOOP 1\n",
    "    for (int i = 0; i < list.length; i++){\n",
    "        list[i] = rand.nextInt(4);\n",
    "    }\n",
    "\n",
    "    // FOR LOOP 2\n",
    "   for(int element: list){\n",
    "        System.out.println(element);\n",
    "    }\n",
    "\n",
    "/*   }\n",
    "\n",
    "   }\n",
    "\n",
    "  RandomArray.main(null);\n",
    "*/"
   ]
  },
  {
   "cell_type": "markdown",
   "metadata": {},
   "source": [
    "**Class Discussion-Take Notes, these will count for points in your hacks!**\n",
    "\n",
    "1. What do the for loops  accomplish? \n",
    "\n",
    "Loop 1: The first  loop initializes each element of the array list with a random integer between 0 and 3. It iterates through each array index  (from 0 to list.length-1) and assigns list[i] an edge-generated random integer. .nextInt(4). \n",
    "For loop 2: The second  loop, which is each time, iterates through each element of the array list and prints it. Unlike the first for loop, this one does not deal with indexes, but  goes through each element directly.________________________\n",
    "2. What is the difference between how elements of the array list are accessed? \n",
    "\n",
    "In the first for loop, the elements are accessed by their index. The loop goes from the first index (0) to the last index (list.length - 1) and the elements are viewed and changed using list[i]. \n",
    "In the second for loop (for-each loop), the elements are used directly without  an index. An element of a variable receives the value of each element of the table list, sequentially from the first to the last.\n",
    "\n",
    "________________________\n",
    "3. BONUS: When the array list of ints was first created, what was each int in the list initialized to? \n",
    "\n",
    "When an array of ints is first created in Java, each int in the array is automatically initialized to 0. This is a default value for integer arrays in Java.\n",
    "_________________________"
   ]
  },
  {
   "cell_type": "markdown",
   "metadata": {},
   "source": [
    "![download](https://github.com/tanishapatil1234/student/assets/111611921/39e2f50d-6eca-4dcd-9d57-489662a26391)\n"
   ]
  },
  {
   "cell_type": "markdown",
   "metadata": {},
   "source": [
    "# For loop : Accessing Some Elements of a List"
   ]
  },
  {
   "cell_type": "markdown",
   "metadata": {},
   "source": [
    "**Class Discussion-Take Notes, these will count for points in your hacks!**\n",
    "\n",
    "4. If I only wanted to access the elements at even indices of the list (0, 2, 4), what could I change in the statement below to accomplish that?  \n",
    "\n",
    "5. What about odd?  "
   ]
  },
  {
   "cell_type": "code",
   "execution_count": 2,
   "metadata": {
    "vscode": {
     "languageId": "java"
    }
   },
   "outputs": [
    {
     "name": "stdout",
     "output_type": "stream",
     "text": [
      "Even Index\n",
      "0\n",
      "2\n",
      "4\n"
     ]
    },
    {
     "name": "stdout",
     "output_type": "stream",
     "text": [
      "Odd Index\n",
      "1\n",
      "3\n",
      "5\n"
     ]
    }
   ],
   "source": [
    "// EVEN\n",
    "int[] list = {0, 1, 2, 3, 4, 5};\n",
    "System.out.println(\"Even Index\");\n",
    "for(int index = 0; index < list.length; index += 2){\n",
    "    System.out.println(list[index]);\n",
    "}\n",
    "\n",
    "// ODD\n",
    "int[] list = {0, 1, 2, 3, 4, 5};\n",
    "System.out.println(\"Odd Index\");\n",
    "for(int index = 1; index < list.length; index += 2){\n",
    "    System.out.println(list[index]);\n",
    "}"
   ]
  },
  {
   "cell_type": "markdown",
   "metadata": {},
   "source": [
    "**Note: These are NOT traversals, even though these are for loops. This is because not every element in the array is accessed.**"
   ]
  },
  {
   "cell_type": "markdown",
   "metadata": {},
   "source": [
    "## Standard While Loop\n"
   ]
  },
  {
   "cell_type": "markdown",
   "metadata": {},
   "source": [
    "6. Does the following loop accomplish traversing the array?\n",
    "\n",
    "No it doesn't, as there is no accessing of the elements within the array."
   ]
  },
  {
   "cell_type": "code",
   "execution_count": 6,
   "metadata": {
    "vscode": {
     "languageId": "java"
    }
   },
   "outputs": [],
   "source": [
    "int [] list = new int[5];\n",
    "int index = 0; \n",
    "\n",
    "while (index < list.length) \n",
    "{\n",
    "\n",
    "    index ++; \n",
    "}"
   ]
  },
  {
   "cell_type": "markdown",
   "metadata": {},
   "source": [
    "7. This while loop and the for loop we used earlier accomplish the same task. The main difference is that after the loop is completed, the variable 'index' in the while loop will still exist. The variable 'i' in the for loop will not. Why? \n",
    "\n",
    "Due to the fact i is declared within the for loop, it is limited to that loop. When the loop is over i goes out of scope and cannot be accessed. In the while loop, index is declared outside of the loop, so it will remain in scope and still be accessible after the loop completes.\n",
    "__________________________________"
   ]
  },
  {
   "cell_type": "markdown",
   "metadata": {},
   "source": [
    "## Bounds Errors"
   ]
  },
  {
   "cell_type": "markdown",
   "metadata": {},
   "source": [
    "When traversing an array, we need to be careful with the indices to avoid an ArrayIndexOutOfBoundsException being thrown. "
   ]
  },
  {
   "cell_type": "markdown",
   "metadata": {},
   "source": [
    "**ATTENTION: MOST COMMON MISTAKE:**\n",
    "8. What is wrong with the for loop and while loop below? Why does this produce an ArrayIndexOutOfBoundsException error? Java starts at zero, so i cannot be equal to list.length, it has to be less."
   ]
  },
  {
   "cell_type": "code",
   "execution_count": null,
   "metadata": {
    "vscode": {
     "languageId": "java"
    }
   },
   "outputs": [],
   "source": [
    "for(int i = 0; i <= list.length; i ++)"
   ]
  },
  {
   "cell_type": "code",
   "execution_count": null,
   "metadata": {
    "vscode": {
     "languageId": "java"
    }
   },
   "outputs": [],
   "source": [
    "int index = 0; \n",
    "while (index <= list.length)"
   ]
  },
  {
   "cell_type": "markdown",
   "metadata": {},
   "source": [
    "**Off by One Error** : missing the first or last element of an array when trying to traverse"
   ]
  },
  {
   "cell_type": "code",
   "execution_count": null,
   "metadata": {
    "vscode": {
     "languageId": "java"
    }
   },
   "outputs": [],
   "source": [
    "[0, 1, 2, 3, 4]"
   ]
  },
  {
   "cell_type": "code",
   "execution_count": null,
   "metadata": {
    "vscode": {
     "languageId": "java"
    }
   },
   "outputs": [],
   "source": [
    "// This won't access the last element in the list\n",
    "for(int i = 0; i < list.length - 1; i ++)"
   ]
  },
  {
   "cell_type": "code",
   "execution_count": null,
   "metadata": {
    "vscode": {
     "languageId": "java"
    }
   },
   "outputs": [],
   "source": [
    "// This won't access the first element in the list\n",
    "int index = 1; \n",
    "while (index <= list.length)"
   ]
  },
  {
   "cell_type": "markdown",
   "metadata": {},
   "source": [
    "## Developing Methods Using Arrays\n",
    "Reviewing common methods asked on AP Exam FRQs"
   ]
  },
  {
   "cell_type": "markdown",
   "metadata": {},
   "source": [
    "### Average Value"
   ]
  },
  {
   "cell_type": "markdown",
   "metadata": {},
   "source": [
    "Complete the popcorn hack below in order to return the average value of the elements in the list numbers. "
   ]
  },
  {
   "cell_type": "code",
   "execution_count": 10,
   "metadata": {
    "vscode": {
     "languageId": "java"
    }
   },
   "outputs": [
    {
     "name": "stdout",
     "output_type": "stream",
     "text": [
      "The average of the numbers is: 15.0\n"
     ]
    }
   ],
   "source": [
    "public class ArrayAverage {\n",
    "    public static void main(String[] args) {\n",
    "        int[] numbers = {5, 10, 15, 20, 25};\n",
    "        int sum = 0;\n",
    "        double average;\n",
    "        \n",
    "        for (int i = 0; i < numbers.length; i++) {\n",
    "            sum += numbers[i]; \n",
    "        }\n",
    "        \n",
    "       \n",
    "        average = (double) sum/numbers.length; /* missing code */\n",
    "        \n",
    "        System.out.println(\"The average of the numbers is: \" + average);\n",
    "    }\n",
    "}\n",
    "\n",
    "ArrayAverage.main(null);"
   ]
  },
  {
   "cell_type": "markdown",
   "metadata": {},
   "source": [
    "# 6.3 Enhanced for loop for Arrays (Vivian)\n",
    "- the enhanced for loop is also known as the “for each” loop\n",
    "- provides a simplified way to loop through elements in an array, collection, or other iterable data structures."
   ]
  },
  {
   "cell_type": "code",
   "execution_count": null,
   "metadata": {
    "vscode": {
     "languageId": "java"
    }
   },
   "outputs": [],
   "source": [
    "//syntax for enhanced for loop\n",
    "for (dataType element : array) {\n",
    "    // code to process 'element'\n",
    "}"
   ]
  },
  {
   "cell_type": "markdown",
   "metadata": {},
   "source": [
    "- the data type in the loop must match the array’s element data type."
   ]
  },
  {
   "cell_type": "code",
   "execution_count": 3,
   "metadata": {
    "vscode": {
     "languageId": "java"
    }
   },
   "outputs": [
    {
     "name": "stdout",
     "output_type": "stream",
     "text": [
      "1\n",
      "2\n",
      "3\n",
      "4\n",
      "5\n"
     ]
    }
   ],
   "source": [
    "//array of int matches element int\n",
    "int[] numbers = {1, 2, 3, 4, 5};\n",
    "for (int num : numbers) {\n",
    "    System.out.println(num);\n",
    "}"
   ]
  },
  {
   "cell_type": "markdown",
   "metadata": {},
   "source": [
    "## Comparing a regular for loop with the enhanced for loop\n",
    "\n"
   ]
  },
  {
   "cell_type": "markdown",
   "metadata": {},
   "source": [
    "Popcorn Hack: Rewrite this code to use an enhanced for loop instead. make comments explaining what you added/changed"
   ]
  },
  {
   "cell_type": "code",
   "execution_count": 11,
   "metadata": {
    "vscode": {
     "languageId": "java"
    }
   },
   "outputs": [
    {
     "name": "stdout",
     "output_type": "stream",
     "text": [
      "Quote: \"Success is not final, failure is not fatal: It is the courage to continue that counts.\"\n",
      "Emotion: Courageous\n",
      "---------------------------\n",
      "Quote: \"The only way to do great work is to love what you do.\"\n",
      "Emotion: Passionate\n",
      "---------------------------\n",
      "Quote: \"The best way to predict the future is to create it.\"\n",
      "Emotion: Innovative\n",
      "---------------------------\n"
     ]
    }
   ],
   "source": [
    "import java.util.List;\n",
    "import java.util.Map;\n",
    "import java.util.LinkedHashMap;\n",
    "\n",
    "class Quote {\n",
    "    private Map<String, String> quoteEmotions;\n",
    "\n",
    "    public Quote(List<String> quotes, List<String> emotions) {\n",
    "        // Ensure both lists have the same size or handle size differences appropriately\n",
    "        this.quoteEmotions = new LinkedHashMap<>(); // LinkedHashMap will maintain the order of insertion\n",
    "        for (int i = 0; i < quotes.size(); i++) {\n",
    "            this.quoteEmotions.put(quotes.get(i), emotions.get(i));\n",
    "        }\n",
    "    }\n",
    "\n",
    "    public void printQuotesWithEmotions() {\n",
    "        // Enhanced for loop (for-each) to iterate over the map's entries\n",
    "        for (Map.Entry<String, String> entry : quoteEmotions.entrySet()) {\n",
    "            String quote = entry.getKey(); // Retrieve the quote\n",
    "            String emotion = entry.getValue(); // Retrieve the corresponding emotion\n",
    "\n",
    "            System.out.println(\"Quote: \\\"\" + quote + \"\\\"\");\n",
    "            System.out.println(\"Emotion: \" + emotion);\n",
    "            System.out.println(\"---------------------------\");\n",
    "        }\n",
    "    }\n",
    "\n",
    "    public static void main(String[] args) {\n",
    "        List<String> quotes = List.of(\n",
    "            \"Success is not final, failure is not fatal: It is the courage to continue that counts.\",\n",
    "            \"The only way to do great work is to love what you do.\",\n",
    "            \"The best way to predict the future is to create it.\"\n",
    "        );\n",
    "\n",
    "        List<String> emotions = List.of(\n",
    "            \"Courageous\",\n",
    "            \"Passionate\",\n",
    "            \"Innovative\"\n",
    "        );\n",
    "\n",
    "        Quote quotePrinter = new Quote(quotes, emotions);\n",
    "        quotePrinter.printQuotesWithEmotions();\n",
    "    }\n",
    "}\n",
    "\n",
    "Quote.main(null);\n"
   ]
  },
  {
   "cell_type": "markdown",
   "metadata": {},
   "source": [
    "What are some of the benefits of using an enhanced for loop in this case versus a regular for loop?\n",
    "\n",
    "Its concise syntax eliminates the need for manual index manipulation, reducing the likelihood of common  errors such as one-shots or ArrayIndexOutOfBoundsException. By removing the complexity of loop control,  developers can focus on what's important to achieve with each iteration, resulting in cleaner, more understandable code. In addition, the circular variable and its immutability prevent unwanted changes in each iteration, which contributes to the stability of the code."
   ]
  },
  {
   "cell_type": "markdown",
   "metadata": {},
   "source": [
    "## Limitations to enhanced for loop\n",
    "- it does not provide access to the index of the current element.\n",
    "    - This means you cannot easily determine the position of the element in the array or collection.\n",
    "    - But when you want to search for a specific element in a collection and you don’t necessarily need to access the index\n",
    "    - If you need to work with indices, you should use a traditional for loop instead.\n",
    "- read-only access to elements.\n",
    "    - You cannot modify the elements within the loop\n",
    "    - Thus, when you need to modify a collection based on a condition. You should use a regular for loop"
   ]
  },
  {
   "cell_type": "markdown",
   "metadata": {},
   "source": [
    "For the next two code blocks, decide whether or not its better to use a regular for loop or an enhanced one, explain why. write the code for them"
   ]
  },
  {
   "cell_type": "markdown",
   "metadata": {},
   "source": [
    "1. Searching for an Element in an ArrayList\n",
    "\n",
    "In this case, an enhanced for loop is more suitable because you're simply iterating through each element in the list without the need to know the element's index. You're checking each element against a condition (whether the element equals searchName), and there's no need to manipulate the list structure itself."
   ]
  },
  {
   "cell_type": "code",
   "execution_count": 13,
   "metadata": {
    "vscode": {
     "languageId": "java"
    }
   },
   "outputs": [
    {
     "name": "stdout",
     "output_type": "stream",
     "text": [
      "Vivian was not found in the list.\n"
     ]
    }
   ],
   "source": [
    "ArrayList<String> names = new ArrayList<>();\n",
    "String searchName = \"Vivian\";\n",
    "boolean found = false;\n",
    "\n",
    "//code goes here\n",
    "for (String name : names) {\n",
    "    if (name.equals(searchName)) {\n",
    "        found = true;\n",
    "        break; // Exit the loop early since we've found the name\n",
    "    }\n",
    "}\n",
    "\n",
    "if (found) {\n",
    "    System.out.println(searchName + \" was found in the list.\");\n",
    "} else {\n",
    "    System.out.println(searchName + \" was not found in the list.\");\n",
    "}"
   ]
  },
  {
   "cell_type": "markdown",
   "metadata": {},
   "source": [
    "2. Removing Even Numbers from an ArrayList\n",
    "\n",
    "For this task, a traditional for loop is necessary because you're modifying the list (removing elements) while iterating through it. Using an enhanced for loop can result in ConcurrentModificationException if you try to remove items while iterating through the collection. Additionally, when you remove an item from an ArrayList, the indexes of subsequent items change, which can cause issues with an enhanced for loop."
   ]
  },
  {
   "cell_type": "code",
   "execution_count": 12,
   "metadata": {
    "vscode": {
     "languageId": "java"
    }
   },
   "outputs": [],
   "source": [
    "ArrayList<Integer> numbers = new ArrayList<>();\n",
    "\n",
    "//code goes here\n",
    "for (int i = 0; i < numbers.size(); i++) {\n",
    "    if (numbers.get(i) % 2 == 0) { // Check if the number is even\n",
    "        numbers.remove(i);\n",
    "        i--; // Decrement the index since we removed an element\n",
    "    }\n",
    "}"
   ]
  },
  {
   "cell_type": "markdown",
   "metadata": {},
   "source": [
    "# 6.4: Developing Algorithms Using Arrays (Isabelle)\n",
    "## How to identify the maximum or minimum value in an array"
   ]
  },
  {
   "cell_type": "markdown",
   "metadata": {},
   "source": [
    "It is a common task to determine what the largest or smallest value stored is inside an array. In order to do this, we need a method that can take a parameter of an array of primitve values (`int` or `double`) and return the item that is at the appropriate extreme.\n",
    "\n",
    "Inside the method a local variable is needed to store the current max or min value that will be compared against all the values in the array. You can assign the current value to be either the opposite extreme or the first item you would be looking at.\n",
    "\n",
    "You can use either a standard `for` loop or an enhanced `for` loop to determine the max or min. Assign the temporary variable a starting value based on what extreme you are searching for.\n",
    "\n",
    "Inside the `for` loop, compare the current value against the local variable; if the current value is better, assign it to the temporary variable. When the loop is over, the local variable will contain the appropriate value and is still available and within scope and can be returned from the method."
   ]
  },
  {
   "cell_type": "markdown",
   "metadata": {},
   "source": [
    "## Find max in an array of `double` values"
   ]
  },
  {
   "cell_type": "code",
   "execution_count": null,
   "metadata": {
    "vscode": {
     "languageId": "java"
    }
   },
   "outputs": [],
   "source": [
    "private double findMax(double [] values) {\n",
    "    double max = values[0];\n",
    "\n",
    "    for (int index = 1; index < values.length; index++) {\n",
    "        if (values[index] > max) {\n",
    "            max = values[index];\n",
    "        }\n",
    "    }\n",
    "    return max;\n",
    "}"
   ]
  },
  {
   "cell_type": "markdown",
   "metadata": {},
   "source": [
    "## Find min in an array of `int` values"
   ]
  },
  {
   "cell_type": "code",
   "execution_count": null,
   "metadata": {
    "vscode": {
     "languageId": "java"
    }
   },
   "outputs": [],
   "source": [
    "private int findMin(int [] values) {\n",
    "    int min = Integer.MAX_VALUE;\n",
    "\n",
    "    for (int currentValue: values) {\n",
    "        if (currentValue < min) {\n",
    "            min = currentValue;\n",
    "        }\n",
    "    }\n",
    "    return min;\n",
    "}"
   ]
  },
  {
   "cell_type": "markdown",
   "metadata": {},
   "source": [
    "## Let's Practice!"
   ]
  },
  {
   "cell_type": "markdown",
   "metadata": {},
   "source": [
    "**Popcorn hack #1**"
   ]
  },
  {
   "cell_type": "code",
   "execution_count": null,
   "metadata": {
    "vscode": {
     "languageId": "java"
    }
   },
   "outputs": [],
   "source": [
    "// What needs to be changed to find the index of the max value? (write correct code in cell below)\n",
    "private int findMaxIndex(double[] values) {\n",
    "    int maxIndex = 0; // Store the index of the max value\n",
    "    double max = values[0]; // Store the max value\n",
    "\n",
    "    for (int index = 1; index < values.length; index++) {\n",
    "        if (values[index] > max) { // If a larger value is found\n",
    "            max = values[index]; // Update the max value\n",
    "            maxIndex = index; // Update the index of the max value\n",
    "        }\n",
    "    }\n",
    "    return maxIndex; // Return the index of the max value\n",
    "}\n"
   ]
  },
  {
   "cell_type": "markdown",
   "metadata": {},
   "source": [
    "## How to calculate the average value from objects in an array"
   ]
  },
  {
   "cell_type": "markdown",
   "metadata": {},
   "source": [
    "It is a common task to determine what is the average value returned from items stored inside an array. In order to do this, we need a method that can take a parameter of an array of Objects (DebugDuck) and calculate and return the average value that each instance of DebugDuck returns from the method.\n",
    "\n",
    "Inside the method; a local double variable is needed to store the accumulated values. Then we use a for loop to traverse the array and add the current total to the variable. After accumulating all the values we need to divide the total by the number of items stored in the array."
   ]
  },
  {
   "cell_type": "markdown",
   "metadata": {},
   "source": [
    "## Using a standard `for` loop\n"
   ]
  },
  {
   "cell_type": "code",
   "execution_count": null,
   "metadata": {
    "vscode": {
     "languageId": "java"
    }
   },
   "outputs": [],
   "source": [
    "private double calculateAverage(DebugDuck [] ducks) {\n",
    "    double average = 0.0;\n",
    "\n",
    "    for (int index = 0; index < ducks.length; index++) {\n",
    "        average += ducks[index].getQuestionCount();\n",
    "    }\n",
    "    average = average / ducks.length;\n",
    "\n",
    "    return average;\n",
    "}"
   ]
  },
  {
   "cell_type": "markdown",
   "metadata": {},
   "source": [
    "## Using a standard `enhanced` loop\n"
   ]
  },
  {
   "cell_type": "code",
   "execution_count": null,
   "metadata": {
    "vscode": {
     "languageId": "java"
    }
   },
   "outputs": [],
   "source": [
    "private double calculateAverage(DebugDuck [] ducks) {\n",
    "    double average = 0.0;\n",
    "\n",
    "    for (DebugDuck currentDuck: ducks) {\n",
    "        average += currentDuck.getQuestionCount();\n",
    "    }\n",
    "    average = average / ducks.length;\n",
    "\n",
    "    return average;\n",
    "}"
   ]
  },
  {
   "cell_type": "markdown",
   "metadata": {},
   "source": [
    "**Does the order of accumulation matter?**\n",
    "In this specific case, the order of accumulation does not matter. We're summing up the question counts of the DebugDuck objects, and addition is commutative (i.e., a + b is the same as b + a). Whether we start accumulating from the start of the array or the end, we'll end up with the same total sum. The average, which is this sum divided by the number of DebugDuck objects, will also be the same regardless of the order in which we accumulate the question counts.\n",
    "\n",
    "**Can you declare the variable inside the loop?**\n",
    "\n",
    "If referring to the average variable, it cannot be declared inside the loop if its value is intended to be returned from the method. Variables declared within a loop are confined to that loop's scope, making them inaccessible outside of it. Declaring average inside the loop would prevent it from being accessible at the return statement, due to scope limitations."
   ]
  },
  {
   "cell_type": "markdown",
   "metadata": {},
   "source": [
    "## Shfiting Array contents to the right"
   ]
  },
  {
   "cell_type": "markdown",
   "metadata": {},
   "source": [
    "The contents of an array often need to be shifted as part of a solution to using the data inside.\n",
    "\n",
    "We need to know how much to shift the array by. This will need to be an int obviously.\n",
    "\n",
    "In order to move the contents we next need to make an empty array of the same size and then iterate over the original array and properly copy the values to the adjusted index in the new array.\n",
    "\n",
    "We then need to assign the new array back into the original variable.\n",
    "\n",
    "**I regualr one that increments an index variable by one, and the condition that the loop still goes is index < numbers.length.**"
   ]
  },
  {
   "cell_type": "markdown",
   "metadata": {},
   "source": [
    "**What kind of for loop should we use? Why?**\n",
    "\n",
    "A regular for loop, as we need to know index."
   ]
  },
  {
   "cell_type": "code",
   "execution_count": 14,
   "metadata": {
    "vscode": {
     "languageId": "java"
    }
   },
   "outputs": [
    {
     "name": "stdout",
     "output_type": "stream",
     "text": [
      "3 4 5 1 2 "
     ]
    }
   ],
   "source": [
    "int [] numbers = {1,2,3,4,5};\n",
    "int [] shifted = new int [numbers.length];\n",
    "int shift = 8;\n",
    "for (int index = 0; index < numbers.length; index++) {\n",
    "    shifted [Math.abs((index + shift) % numbers.length)] = numbers[index];\n",
    "}\n",
    "numbers = shifted;\n",
    "for (int num : numbers) {\n",
    "    System.out.print(num + \" \");\n",
    "}"
   ]
  },
  {
   "cell_type": "markdown",
   "metadata": {},
   "source": [
    "**Why are we using the % operator?**"
   ]
  },
  {
   "cell_type": "markdown",
   "metadata": {},
   "source": [
    "**Popcorn hack #2**"
   ]
  },
  {
   "cell_type": "markdown",
   "metadata": {},
   "source": [
    "How would we code a left shift? Write a left shift using the variables below\n",
    "\n"
   ]
  },
  {
   "cell_type": "code",
   "execution_count": 16,
   "metadata": {
    "vscode": {
     "languageId": "java"
    }
   },
   "outputs": [
    {
     "name": "stdout",
     "output_type": "stream",
     "text": [
      "gamma\n",
      "delta\n",
      "alpha\n",
      "beta\n"
     ]
    }
   ],
   "source": [
    "String[] words = {\"alpha\", \"beta\", \"gamma\", \"delta\"};\n",
    "int shiftWord = 2;\n",
    "\n",
    "\n",
    "String[] shiftedWords = new String[words.length];\n",
    "\n",
    "for (int i = 0; i < words.length; i++) {\n",
    "    int newLocation = (i - shiftWord + words.length) % words.length;\n",
    "    shiftedWords[newLocation] = words[i];\n",
    "}\n",
    "\n",
    "System.arraycopy(shiftedWords, 0, words, 0, words.length);\n",
    "\n",
    "for (String word : words) {\n",
    "    System.out.println(word);\n",
    "}\n"
   ]
  },
  {
   "cell_type": "markdown",
   "metadata": {},
   "source": [
    "**Why should the array index be wrapped in a call to Math.abs?**\n",
    "\n",
    "To calculate the array index, Math.abs  is usually not needed for transfer operations, because the modulus operator (%) already ensures that the index is within a valid range. In the left shift example, the expression (i - shiftWord + words.length) % words.length cannot produce a negative index because adding words.length cancels any negative result of (i - shiftWord). In cases where index calculations may return negative values ​​that are not handled by modulus or similar normalization, wrapping the index in Math.abs can prevent an ArrayIndexOutOfBoundsException by ensuring that the index is a non-negative integer."
   ]
  },
  {
   "cell_type": "markdown",
   "metadata": {},
   "source": [
    "# Hacks"
   ]
  },
  {
   "cell_type": "markdown",
   "metadata": {},
   "source": [
    "Scoring Guidelines: \n",
    "- 0.2 for completeing each of the sub-unit hacks mentioned below. \n",
    "    - FRQ/PopCorn hacks will be graded AP Style\n",
    "- 0.1 for having organized notebook with note taking when appropriate. \n",
    "- Extra 0.1 for going above expectations for the hacks (being creative!)\n"
   ]
  },
  {
   "cell_type": "markdown",
   "metadata": {},
   "source": [
    "### 6.1 HACK 1 FRQ (<5 min)\n",
    "\n",
    "Follow the steps in the lesson to just make an array that has some relation to your project. Feel free to use the code examples we provided in your hack if you would like."
   ]
  },
  {
   "cell_type": "code",
   "execution_count": 3,
   "metadata": {
    "vscode": {
     "languageId": "java"
    }
   },
   "outputs": [
    {
     "name": "stdout",
     "output_type": "stream",
     "text": [
      "77.70289424663623 64.47765891541505 69.43498876018346 78.39207145493812 72.9893207232911 69.50350613586525 65.2358282573613 \n",
      "66.61289924760693 95.93402445930232 82.19875858886843 64.27986176803086 98.48980740362998 73.04697034436623 61.28115881923128 \n",
      "87.98130544458719 72.8469782400211 78.109507658544 98.63712500546704 99.07222346611677 94.24896958233438 98.56461911264438 \n",
      "66.82139517462994 65.6526297650071 64.01364777265482 82.45544578951701 87.74002709219367 78.88762534218563 80.5902225672557 \n",
      "63.40844661148704 70.25723536883328 72.72682525480892 69.32804628901931 91.97782470741139 80.59935443885117 67.96662427743568 \n",
      "65.91961341781696 88.7381955140665 91.81203303126121 73.1711778070981 68.3090230908561 97.83276519963569 67.15957111654009 \n",
      "61.41327281540593 68.61497004663116 79.25461291217654 87.23814162069587 84.49158619105816 99.62516123659796 93.95897159684097 \n",
      "91.70741121895074 65.22613711296827 79.6768447185037 67.97472618391538 93.92794878257304 83.62905283693614 75.24596440467018 \n",
      "70.00364714173134 80.42455588424946 84.19307750695381 82.32526512326464 81.56620416625402 66.9785167409973 79.23556966046738 \n",
      "75.67947739349289 99.57310907478605 69.28455495016233 67.18104823662617 89.32353415856736 88.27204441472453 98.4910919525897 \n",
      "64.86064898494726 72.07757789254937 70.83936455921328 70.57523568224528 69.35217658750473 88.81032745640698 80.45684715100757 \n",
      "83.38672117224449 97.57975155630847 70.99019578533598 96.53389619949154 66.32784474061981 60.837348492451696 79.42134618077313 \n",
      "73.80591876681665 65.0192422242992 76.59585366278432 87.54970745332487 90.35989294384436 66.9341863887659 61.39857128633861 \n",
      "65.48176548751621 95.2084598224169 63.86687381419542 86.34541459323697 82.86675985163919 86.85420462930385 63.232992678838464 \n",
      "90.61135584939052 93.05074302837629 81.3560795141062 82.5836807207616 98.63998257142883 91.41876020266614 91.73024016447764 \n",
      "70.3467829546576 73.09836409959615 97.59921328711576 60.08790019166992 70.69214377059065 78.37470129438587 94.21230485377063 \n",
      "99.73308075414063 71.55046658625574 88.34558224869858 64.10225030912147 76.513489429789 82.19810169592292 67.33495670224711 \n",
      "83.50077390661511 87.03804276390437 80.45292571352945 84.63225773552794 90.32721298951179 95.94487041941373 69.40929457553105 \n",
      "70.63242044530779 94.83835473343527 75.22395656269015 69.77284591997059 66.6058563768888 74.09896114355554 85.66887411110338 \n",
      "86.23878221850505 60.30173772227772 72.25174333951907 93.8523962392822 84.99002297135081 96.03329523313369 75.32335205408988 \n",
      "87.59106331274197 84.27446987264261 60.58910612069561 82.31076791177597 78.68411550382794 71.15342218300799 95.25968776107973 \n",
      "93.55030184544225 63.78249545188534 94.89599703397326 89.46400773665906 82.87919155927037 72.56394821439591 71.1272140802601 \n",
      "92.90585943360861 91.85764373028519 66.96056463596307 80.7202393224915 60.88532362144066 62.326936499443754 66.00540469957741 \n",
      "63.5560554650142 81.33588917406999 67.83703618649048 97.935176309545 69.6566818828363 82.35310266691663 94.98498997415531 \n",
      "64.50623453619497 78.83085415623444 65.42591243308705 62.46316830959629 62.05150318852298 74.8538883469719 72.27722262005132 \n",
      "68.62423087100964 99.62619499973013 81.33627489443084 92.16544691832524 87.62752702085899 86.66057547239467 73.81835391795283 \n",
      "71.6941911984834 89.73943405584603 70.85826872642072 76.26123630073843 60.62249081191452 83.11795221685462 71.64895133229068 \n",
      "89.98695558496867 74.86334973338447 62.41969943848502 75.32459752079981 69.25363581714615 81.80363630666942 63.82524901095027 \n",
      "75.05871680163014 70.03427521375292 93.27370972826563 66.5865618835369 92.32837376146381 77.2005760622798 87.94045157405306 \n",
      "67.95810371621238 65.82907507413739 60.19602968220052 97.59269995908727 91.38101676941594 99.79292623849665 78.41531850243909 \n",
      "80.7333921744457 87.04754381181978 65.69076032901347 74.8898686060939 92.08804049725595 89.48073071840977 69.61927912824008 \n",
      "80.51223459403755 98.08446432627184 88.52220254964004 72.24453519392533 60.91478485164118 66.05402634725874 88.12867557920335 \n",
      "98.9934069317457 94.25098655563319 68.84992935675326 91.63563350943147 85.25502752920902 90.51038496868162 96.7734451271455 \n",
      "62.654434621104464 64.67445245969306 91.63120226325745 95.1442559556105 67.52692652060972 88.19113673569696 86.55727636416759 \n",
      "88.54639628442548 88.2694407770656 77.29514588929389 76.51888685804298 71.72661164064314 84.19587651752883 87.04428285293565 \n",
      "73.19981745570828 82.31724849454062 95.9173818876574 62.705688101664634 86.08582274485927 82.00110571895266 87.17394512330995 \n",
      "78.45572954427394 75.17247898211126 80.43099647599422 87.96104202180877 87.39233721925729 71.34320563735152 60.162068894250126 \n",
      "76.67228172835216 69.18424976523946 79.11106956524105 61.05026370406402 79.48681114425962 95.00194873683208 95.05077458657934 \n",
      "99.01558806250077 91.98804534867456 78.94535954924235 80.13007817047915 66.76419169357567 81.00812296682139 91.00372992125708 \n",
      "95.28267083365222 73.00856863134852 63.95026631406428 68.6533943694651 86.947370764874 61.92048230022155 88.3490690486224 \n",
      "62.51944665466641 72.93129623855685 95.99656585336118 86.18652453594322 66.09766632597605 88.83751140363523 63.21182983659941 \n",
      "95.48943795557358 90.3533389259136 91.43040403941069 63.2816333686581 65.9916640334187 91.08394651658004 77.69493878557341 \n",
      "98.04799961768896 76.15242963039447 80.25298999938596 86.97867153468795 97.45143968568068 85.5798195733611 92.07253855660355 \n",
      "68.48826046151217 75.244798970661 89.91629944587609 70.4324081483255 97.54502648369484 87.55091122648096 94.5009867258793 \n",
      "76.34417598322182 71.3869037829011 62.56119762176055 78.63116868167577 82.38856210742037 88.93694850563382 81.11763508191783 \n",
      "84.00339539580631 65.7250098075487 98.84139024500493 75.61583485248494 88.92227467278322 92.04262346937129 86.21301280218547 \n",
      "98.61229291813507 64.12293333075024 79.9019186520737 60.898464861316334 92.71417957651829 66.56088276681527 68.23716582286994 \n",
      "88.72092520010744 69.77535113308384 94.28087579202105 79.35941041887553 92.03234156112691 60.117576259294914 98.4841342323484 \n",
      "75.62057475076394 97.04229169889797 81.44128317481164 68.17115209375746 89.9693500123596 62.773312638180926 62.285446705955174 \n",
      "68.24506507044453 88.94990805503252 70.12537599037192 96.34155239853644 83.71843172063117 61.26476984299636 79.41497102339427 \n",
      "81.6218731889856 60.674048711930844 95.84347135420636 80.88710154624172 72.42761915527555 78.88824553026873 60.429012834992434 \n",
      "65.0812937075862 62.257835623515746 61.53292407665588 75.01434037322917 68.56553058090249 62.24521568823214 64.13041491600157 \n",
      "94.0314625782089 85.43484253778712 82.40034048051592 67.94303485716911 87.01610192592835 76.10409406888351 81.8911397147109 \n"
     ]
    }
   ],
   "source": [
    "import java.util.Random;\n",
    "\n",
    "public class NFLPlayerRatings {\n",
    "    public static void main(String[] args) {\n",
    "        // Define the number of players in the NFL team and the number of player attributes\n",
    "        int numberOfPlayers = 53; // Typical roster size for an NFL team\n",
    "        int numberOfAttributes = 7; // Attributes like speed, strength, agility, etc.\n",
    "\n",
    "        // Create a 2D array to hold the initial ratings of NFL players\n",
    "        double[][] initialPlayerRatings = new double[numberOfPlayers][numberOfAttributes];\n",
    "\n",
    "        // Initialize the player ratings randomly\n",
    "        Random random = new Random();\n",
    "        for (int i = 0; i < numberOfPlayers; i++) {\n",
    "            for (int j = 0; j < numberOfAttributes; j++) {\n",
    "                // Player ratings are typically initialized with values between 60 and 99\n",
    "                initialPlayerRatings[i][j] = 60 + random.nextDouble() * 40; // Random player ratings\n",
    "            }\n",
    "        }\n",
    "\n",
    "        // Print out the initial player ratings array\n",
    "        for (int i = 0; i < numberOfPlayers; i++) {\n",
    "            for (int j = 0; j < numberOfAttributes; j++) {\n",
    "                System.out.print(initialPlayerRatings[i][j] + \" \");\n",
    "            }\n",
    "            System.out.println();\n",
    "        }\n",
    "    }\n",
    "}\n",
    "NFLPlayerRatings.main(null)"
   ]
  },
  {
   "cell_type": "markdown",
   "metadata": {},
   "source": [
    "### 6.2 HACK 1 FRQ (<10 min)\n",
    "\n",
    "**Prime Numbers in an Array (5-10 min)**\n",
    "\n",
    "Create a loop to identify and print the prime numbers from an array of integers. Your loop MUST traverse through the given list. Some things to consider: \n",
    "> BONUS: Do this with a for loop AND a while loop \n",
    "\n",
    "- Understand prime numbers and how to check for primality.\n",
    "- Implement a loop and conditional statements to iterate through the array.\n",
    "- Consider data storage (either displaying prime numbers immediately or storing them for later display)"
   ]
  },
  {
   "cell_type": "code",
   "execution_count": 4,
   "metadata": {
    "vscode": {
     "languageId": "java"
    }
   },
   "outputs": [
    {
     "name": "stdout",
     "output_type": "stream",
     "text": [
      "Prime jersey numbers (identified using a for loop):\n",
      "3\n",
      "19\n",
      "7\n",
      "\n",
      "Prime jersey numbers (identified using a while loop):\n",
      "3\n",
      "19\n",
      "7\n"
     ]
    }
   ],
   "source": [
    "public class PrimeJerseyNumbers {\n",
    "    public static void main(String[] args) {\n",
    "        // Array of jersey numbers in an NFL team\n",
    "        int[] jerseyNumbers = {12, 3, 80, 19, 55, 88, 7, 33, 84, 58, 9, 28};\n",
    "\n",
    "        // Using a for loop to identify and print prime jersey numbers\n",
    "        System.out.println(\"Prime jersey numbers (identified using a for loop):\");\n",
    "        for (int number : jerseyNumbers) {\n",
    "            if (isPrime(number)) {\n",
    "                System.out.println(number);\n",
    "            }\n",
    "        }\n",
    "\n",
    "        // BONUS: Using a while loop to identify and print prime jersey numbers\n",
    "        System.out.println(\"\\nPrime jersey numbers (identified using a while loop):\");\n",
    "        int index = 0;\n",
    "        while (index < jerseyNumbers.length) {\n",
    "            if (isPrime(jerseyNumbers[index])) {\n",
    "                System.out.println(jerseyNumbers[index]);\n",
    "            }\n",
    "            index++;\n",
    "        }\n",
    "    }\n",
    "\n",
    "    // Helper method to check if a jersey number is prime\n",
    "    public static boolean isPrime(int number) {\n",
    "        if (number <= 1) {\n",
    "            return false; // Numbers less than or equal to 1 are not prime\n",
    "        }\n",
    "        for (int i = 2; i <= Math.sqrt(number); i++) {\n",
    "            if (number % i == 0) {\n",
    "                return false; // Number is divisible by some number other than 1 and itself\n",
    "            }\n",
    "        }\n",
    "        return true;\n",
    "    }\n",
    "}\n",
    "\n",
    "PrimeJerseyNumbers.main(null)"
   ]
  },
  {
   "cell_type": "markdown",
   "metadata": {},
   "source": [
    "### 6.2 HACK 2 MCQ (<5 min)\n",
    "\n",
    "**Multiple Choice Questions**\n",
    "\n",
    "\n",
    "Do NOT Run the code cells. Try to do this on your own."
   ]
  },
  {
   "cell_type": "markdown",
   "metadata": {},
   "source": [
    "1. What will be displayed as the output? "
   ]
  },
  {
   "cell_type": "code",
   "execution_count": null,
   "metadata": {
    "vscode": {
     "languageId": "java"
    }
   },
   "outputs": [],
   "source": [
    "String [] list = {\"red\", \"yellow\", \"blue\"}; \n",
    "for (int i = 0; i < list.length; i++)\n",
    "{\n",
    "    System.out.print(list[i].length()+ \"-\" )\n",
    "}"
   ]
  },
  {
   "cell_type": "markdown",
   "metadata": {},
   "source": [
    "- A. red-yellow-blue\n",
    "- B. 3-3-3-\n",
    "- **C. 3-6-4-**\n",
    "- D. 3-6-\n",
    "- E. 3-6-4"
   ]
  },
  {
   "cell_type": "markdown",
   "metadata": {},
   "source": [
    "Write why you chose that answer! \n",
    "\n",
    "we traverse therough the array, get the lenght of each word and then print a hyphen after the lenght fo each word. 3-6-4- seems like what would happen.\n",
    "______________________"
   ]
  },
  {
   "cell_type": "markdown",
   "metadata": {},
   "source": [
    "2. The code below is meant to display every other number in the list numbers. Which of the following should replace the missing code in order to do this? "
   ]
  },
  {
   "cell_type": "code",
   "execution_count": null,
   "metadata": {
    "vscode": {
     "languageId": "java"
    }
   },
   "outputs": [],
   "source": [
    "int [] numbers = {3, -4, 6, -7, 2}; \n",
    "for(/*missing code*/)\n",
    "{\n",
    "    System.out.println(numbers[i]);\n",
    "}"
   ]
  },
  {
   "cell_type": "markdown",
   "metadata": {},
   "source": [
    "- A. int i = 0; i < numbers.length/2; i++\n",
    "- B. int i = 1; i < numbers.length; i++\n",
    "- C. int i = 1; i < numbers.length; i+=2\n",
    "- D. int i = 0; i < numbers.length; i++\n",
    "- **E. int i = 0; i < numbers.length; i+=2**"
   ]
  },
  {
   "cell_type": "markdown",
   "metadata": {},
   "source": [
    "Write why you chose that answer! \n",
    "\n",
    "The chosen answer would print out all of the even indexed numbers (0, 2, 4).\n",
    "______________________"
   ]
  },
  {
   "cell_type": "markdown",
   "metadata": {},
   "source": [
    "3. (This one is a little hard) Which of the following would fix the code so that the elements in arr are reversed. Hint: try creating a list in your head and trace the code to see if the code accomplishes its goal."
   ]
  },
  {
   "cell_type": "code",
   "execution_count": null,
   "metadata": {
    "vscode": {
     "languageId": "java"
    }
   },
   "outputs": [],
   "source": [
    "public static void reverseArray(double [] arr)\n",
    "{\n",
    "    for(int = 0; i< arr.length; i++)\n",
    "    {\n",
    "        double temp = arr[i];\n",
    "        arr[i] = arr[arr.length-1-i];\n",
    "        arr[arr.length-1-i] = temp; \n",
    "    }\n",
    "}"
   ]
  },
  {
   "cell_type": "markdown",
   "metadata": {},
   "source": [
    "- A. Change loop condition to: i < arr.length - 1\n",
    "- B. Change loop condition to: **i < arr.length/2**\n",
    "- C. Change loop condition to: i < arr.length/2 - 1"
   ]
  },
  {
   "cell_type": "markdown",
   "metadata": {},
   "source": [
    "In case you are having trouble with question 3 the answer is B. Write about why! \n",
    "\n",
    "The method does this by swapping elements symmetrically around the array's midpoint. If the loop runs until i < arr.length, it will effectively swap each element twice: once on the way up to the midpoint and once on the way past the midpoint, resulting in the original array order. By stopping the loop at i < arr.length/2, each element is swapped only once, correctly reversing the array. Options A and C would either swap too few elements or cause an off-by-one error, respectively, leading to incorrect results.\n",
    "_______________________________"
   ]
  },
  {
   "cell_type": "markdown",
   "metadata": {},
   "source": [
    "### 6.3 HACK \n",
    "- Just finish the popcorn hacks throughout the lesson! "
   ]
  },
  {
   "cell_type": "markdown",
   "metadata": {},
   "source": [
    "### 6.4 HACK \n",
    "- Just finish the 2 popcorn hacks in the lesson! "
   ]
  },
  {
   "cell_type": "markdown",
   "metadata": {},
   "source": [
    "# EXTRA CREDIT WORK"
   ]
  },
  {
   "cell_type": "markdown",
   "metadata": {},
   "source": [
    "## Extra Credit NFL Code"
   ]
  },
  {
   "cell_type": "code",
   "execution_count": 5,
   "metadata": {
    "vscode": {
     "languageId": "java"
    }
   },
   "outputs": [
    {
     "name": "stdout",
     "output_type": "stream",
     "text": [
      "NFL Player Stats:\n",
      "Player Name: Tom Brady\n",
      "Jersey Number: 12\n",
      "Yards Gained: 4567.5\n",
      "Touchdowns: 40\n",
      "\n",
      "Player Name: Aaron Donald\n",
      "Jersey Number: 99\n",
      "Yards Gained: 0.0\n",
      "Touchdowns: 0\n",
      "\n",
      "Player Name: null\n",
      "Jersey Number: 0\n",
      "Yards Gained: 0.0\n",
      "Touchdowns: 0\n",
      "\n",
      "Player Name: null\n",
      "Jersey Number: 0\n",
      "Yards Gained: 0.0\n",
      "Touchdowns: 0\n",
      "\n",
      "Player Name: null\n",
      "Jersey Number: 0\n",
      "Yards Gained: 0.0\n",
      "Touchdowns: 0\n",
      "\n",
      "Player Name: null\n",
      "Jersey Number: 0\n",
      "Yards Gained: 0.0\n",
      "Touchdowns: 0\n",
      "\n",
      "Player Name: null\n",
      "Jersey Number: 0\n",
      "Yards Gained: 0.0\n",
      "Touchdowns: 0\n",
      "\n",
      "Player Name: null\n",
      "Jersey Number: 0\n",
      "Yards Gained: 0.0\n",
      "Touchdowns: 0\n",
      "\n",
      "Player Name: null\n",
      "Jersey Number: 0\n",
      "Yards Gained: 0.0\n",
      "Touchdowns: 0\n",
      "\n",
      "Player Name: null\n",
      "Jersey Number: 0\n",
      "Yards Gained: 0.0\n",
      "Touchdowns: 0\n",
      "\n",
      "Player Name: null\n",
      "Jersey Number: 0\n",
      "Yards Gained: 0.0\n",
      "Touchdowns: 0\n",
      "\n",
      "Player Name: null\n",
      "Jersey Number: 0\n",
      "Yards Gained: 0.0\n",
      "Touchdowns: 0\n",
      "\n",
      "Player Name: null\n",
      "Jersey Number: 0\n",
      "Yards Gained: 0.0\n",
      "Touchdowns: 0\n",
      "\n",
      "Player Name: null\n",
      "Jersey Number: 0\n",
      "Yards Gained: 0.0\n",
      "Touchdowns: 0\n",
      "\n",
      "Player Name: null\n",
      "Jersey Number: 0\n",
      "Yards Gained: 0.0\n",
      "Touchdowns: 0\n",
      "\n",
      "Player Name: null\n",
      "Jersey Number: 0\n",
      "Yards Gained: 0.0\n",
      "Touchdowns: 0\n",
      "\n",
      "Player Name: null\n",
      "Jersey Number: 0\n",
      "Yards Gained: 0.0\n",
      "Touchdowns: 0\n",
      "\n",
      "Player Name: null\n",
      "Jersey Number: 0\n",
      "Yards Gained: 0.0\n",
      "Touchdowns: 0\n",
      "\n",
      "Player Name: null\n",
      "Jersey Number: 0\n",
      "Yards Gained: 0.0\n",
      "Touchdowns: 0\n",
      "\n",
      "Player Name: null\n",
      "Jersey Number: 0\n",
      "Yards Gained: 0.0\n",
      "Touchdowns: 0\n",
      "\n",
      "Player Name: null\n",
      "Jersey Number: 0\n",
      "Yards Gained: 0.0\n",
      "Touchdowns: 0\n",
      "\n",
      "Player Name: null\n",
      "Jersey Number: 0\n",
      "Yards Gained: 0.0\n",
      "Touchdowns: 0\n",
      "\n",
      "Player Name: null\n",
      "Jersey Number: 0\n",
      "Yards Gained: 0.0\n",
      "Touchdowns: 0\n",
      "\n",
      "Player Name: null\n",
      "Jersey Number: 0\n",
      "Yards Gained: 0.0\n",
      "Touchdowns: 0\n",
      "\n",
      "Player Name: null\n",
      "Jersey Number: 0\n",
      "Yards Gained: 0.0\n",
      "Touchdowns: 0\n",
      "\n",
      "Player Name: null\n",
      "Jersey Number: 0\n",
      "Yards Gained: 0.0\n",
      "Touchdowns: 0\n",
      "\n",
      "Player Name: null\n",
      "Jersey Number: 0\n",
      "Yards Gained: 0.0\n",
      "Touchdowns: 0\n",
      "\n",
      "Player Name: null\n",
      "Jersey Number: 0\n",
      "Yards Gained: 0.0\n",
      "Touchdowns: 0\n",
      "\n",
      "Player Name: null\n",
      "Jersey Number: 0\n",
      "Yards Gained: 0.0\n",
      "Touchdowns: 0\n",
      "\n",
      "Player Name: null\n",
      "Jersey Number: 0\n",
      "Yards Gained: 0.0\n",
      "Touchdowns: 0\n",
      "\n",
      "Player Name: null\n",
      "Jersey Number: 0\n",
      "Yards Gained: 0.0\n",
      "Touchdowns: 0\n",
      "\n",
      "Player Name: null\n",
      "Jersey Number: 0\n",
      "Yards Gained: 0.0\n",
      "Touchdowns: 0\n",
      "\n",
      "Player Name: null\n",
      "Jersey Number: 0\n",
      "Yards Gained: 0.0\n",
      "Touchdowns: 0\n",
      "\n",
      "Player Name: null\n",
      "Jersey Number: 0\n",
      "Yards Gained: 0.0\n",
      "Touchdowns: 0\n",
      "\n",
      "Player Name: null\n",
      "Jersey Number: 0\n",
      "Yards Gained: 0.0\n",
      "Touchdowns: 0\n",
      "\n",
      "Player Name: null\n",
      "Jersey Number: 0\n",
      "Yards Gained: 0.0\n",
      "Touchdowns: 0\n",
      "\n",
      "Player Name: null\n",
      "Jersey Number: 0\n",
      "Yards Gained: 0.0\n",
      "Touchdowns: 0\n",
      "\n",
      "Player Name: null\n",
      "Jersey Number: 0\n",
      "Yards Gained: 0.0\n",
      "Touchdowns: 0\n",
      "\n",
      "Player Name: null\n",
      "Jersey Number: 0\n",
      "Yards Gained: 0.0\n",
      "Touchdowns: 0\n",
      "\n",
      "Player Name: null\n",
      "Jersey Number: 0\n",
      "Yards Gained: 0.0\n",
      "Touchdowns: 0\n",
      "\n",
      "Player Name: null\n",
      "Jersey Number: 0\n",
      "Yards Gained: 0.0\n",
      "Touchdowns: 0\n",
      "\n",
      "Player Name: null\n",
      "Jersey Number: 0\n",
      "Yards Gained: 0.0\n",
      "Touchdowns: 0\n",
      "\n",
      "Player Name: null\n",
      "Jersey Number: 0\n",
      "Yards Gained: 0.0\n",
      "Touchdowns: 0\n",
      "\n",
      "Player Name: null\n",
      "Jersey Number: 0\n",
      "Yards Gained: 0.0\n",
      "Touchdowns: 0\n",
      "\n",
      "Player Name: null\n",
      "Jersey Number: 0\n",
      "Yards Gained: 0.0\n",
      "Touchdowns: 0\n",
      "\n",
      "Player Name: null\n",
      "Jersey Number: 0\n",
      "Yards Gained: 0.0\n",
      "Touchdowns: 0\n",
      "\n",
      "Player Name: null\n",
      "Jersey Number: 0\n",
      "Yards Gained: 0.0\n",
      "Touchdowns: 0\n",
      "\n",
      "Player Name: null\n",
      "Jersey Number: 0\n",
      "Yards Gained: 0.0\n",
      "Touchdowns: 0\n",
      "\n",
      "Player Name: null\n",
      "Jersey Number: 0\n",
      "Yards Gained: 0.0\n",
      "Touchdowns: 0\n",
      "\n",
      "Player Name: null\n",
      "Jersey Number: 0\n",
      "Yards Gained: 0.0\n",
      "Touchdowns: 0\n",
      "\n",
      "Player Name: null\n",
      "Jersey Number: 0\n",
      "Yards Gained: 0.0\n",
      "Touchdowns: 0\n",
      "\n",
      "Player Name: null\n",
      "Jersey Number: 0\n",
      "Yards Gained: 0.0\n",
      "Touchdowns: 0\n",
      "\n",
      "Player Name: null\n",
      "Jersey Number: 0\n",
      "Yards Gained: 0.0\n",
      "Touchdowns: 0\n",
      "\n",
      "NFL Player Stats (while loop):\n",
      "Player Name: Tom Brady\n",
      "Jersey Number: 12\n",
      "Yards Gained: 4567.5\n",
      "Touchdowns: 40\n",
      "\n",
      "Player Name: Aaron Donald\n",
      "Jersey Number: 99\n",
      "Yards Gained: 0.0\n",
      "Touchdowns: 0\n",
      "\n",
      "Player Name: null\n",
      "Jersey Number: 0\n",
      "Yards Gained: 0.0\n",
      "Touchdowns: 0\n",
      "\n",
      "Player Name: null\n",
      "Jersey Number: 0\n",
      "Yards Gained: 0.0\n",
      "Touchdowns: 0\n",
      "\n",
      "Player Name: null\n",
      "Jersey Number: 0\n",
      "Yards Gained: 0.0\n",
      "Touchdowns: 0\n",
      "\n",
      "Player Name: null\n",
      "Jersey Number: 0\n",
      "Yards Gained: 0.0\n",
      "Touchdowns: 0\n",
      "\n",
      "Player Name: null\n",
      "Jersey Number: 0\n",
      "Yards Gained: 0.0\n",
      "Touchdowns: 0\n",
      "\n",
      "Player Name: null\n",
      "Jersey Number: 0\n",
      "Yards Gained: 0.0\n",
      "Touchdowns: 0\n",
      "\n",
      "Player Name: null\n",
      "Jersey Number: 0\n",
      "Yards Gained: 0.0\n",
      "Touchdowns: 0\n",
      "\n",
      "Player Name: null\n",
      "Jersey Number: 0\n",
      "Yards Gained: 0.0\n",
      "Touchdowns: 0\n",
      "\n",
      "Player Name: null\n",
      "Jersey Number: 0\n",
      "Yards Gained: 0.0\n",
      "Touchdowns: 0\n",
      "\n",
      "Player Name: null\n",
      "Jersey Number: 0\n",
      "Yards Gained: 0.0\n",
      "Touchdowns: 0\n",
      "\n",
      "Player Name: null\n",
      "Jersey Number: 0\n",
      "Yards Gained: 0.0\n",
      "Touchdowns: 0\n",
      "\n",
      "Player Name: null\n",
      "Jersey Number: 0\n",
      "Yards Gained: 0.0\n",
      "Touchdowns: 0\n",
      "\n",
      "Player Name: null\n",
      "Jersey Number: 0\n",
      "Yards Gained: 0.0\n",
      "Touchdowns: 0\n",
      "\n",
      "Player Name: null\n",
      "Jersey Number: 0\n",
      "Yards Gained: 0.0\n",
      "Touchdowns: 0\n",
      "\n",
      "Player Name: null\n",
      "Jersey Number: 0\n",
      "Yards Gained: 0.0\n",
      "Touchdowns: 0\n",
      "\n",
      "Player Name: null\n",
      "Jersey Number: 0\n",
      "Yards Gained: 0.0\n",
      "Touchdowns: 0\n",
      "\n",
      "Player Name: null\n",
      "Jersey Number: 0\n",
      "Yards Gained: 0.0\n",
      "Touchdowns: 0\n",
      "\n",
      "Player Name: null\n",
      "Jersey Number: 0\n",
      "Yards Gained: 0.0\n",
      "Touchdowns: 0\n",
      "\n",
      "Player Name: null\n",
      "Jersey Number: 0\n",
      "Yards Gained: 0.0\n",
      "Touchdowns: 0\n",
      "\n",
      "Player Name: null\n",
      "Jersey Number: 0\n",
      "Yards Gained: 0.0\n",
      "Touchdowns: 0\n",
      "\n",
      "Player Name: null\n",
      "Jersey Number: 0\n",
      "Yards Gained: 0.0\n",
      "Touchdowns: 0\n",
      "\n",
      "Player Name: null\n",
      "Jersey Number: 0\n",
      "Yards Gained: 0.0\n",
      "Touchdowns: 0\n",
      "\n",
      "Player Name: null\n",
      "Jersey Number: 0\n",
      "Yards Gained: 0.0\n",
      "Touchdowns: 0\n",
      "\n",
      "Player Name: null\n",
      "Jersey Number: 0\n",
      "Yards Gained: 0.0\n",
      "Touchdowns: 0\n",
      "\n",
      "Player Name: null\n",
      "Jersey Number: 0\n",
      "Yards Gained: 0.0\n",
      "Touchdowns: 0\n",
      "\n",
      "Player Name: null\n",
      "Jersey Number: 0\n",
      "Yards Gained: 0.0\n",
      "Touchdowns: 0\n",
      "\n",
      "Player Name: null\n",
      "Jersey Number: 0\n",
      "Yards Gained: 0.0\n",
      "Touchdowns: 0\n",
      "\n",
      "Player Name: null\n",
      "Jersey Number: 0\n",
      "Yards Gained: 0.0\n",
      "Touchdowns: 0\n",
      "\n",
      "Player Name: null\n",
      "Jersey Number: 0\n",
      "Yards Gained: 0.0\n",
      "Touchdowns: 0\n",
      "\n",
      "Player Name: null\n",
      "Jersey Number: 0\n",
      "Yards Gained: 0.0\n",
      "Touchdowns: 0\n",
      "\n",
      "Player Name: null\n",
      "Jersey Number: 0\n",
      "Yards Gained: 0.0\n",
      "Touchdowns: 0\n",
      "\n",
      "Player Name: null\n",
      "Jersey Number: 0\n",
      "Yards Gained: 0.0\n",
      "Touchdowns: 0\n",
      "\n",
      "Player Name: null\n",
      "Jersey Number: 0\n",
      "Yards Gained: 0.0\n",
      "Touchdowns: 0\n",
      "\n",
      "Player Name: null\n",
      "Jersey Number: 0\n",
      "Yards Gained: 0.0\n",
      "Touchdowns: 0\n",
      "\n",
      "Player Name: null\n",
      "Jersey Number: 0\n",
      "Yards Gained: 0.0\n",
      "Touchdowns: 0\n",
      "\n",
      "Player Name: null\n",
      "Jersey Number: 0\n",
      "Yards Gained: 0.0\n",
      "Touchdowns: 0\n",
      "\n",
      "Player Name: null\n",
      "Jersey Number: 0\n",
      "Yards Gained: 0.0\n",
      "Touchdowns: 0\n",
      "\n",
      "Player Name: null\n",
      "Jersey Number: 0\n",
      "Yards Gained: 0.0\n",
      "Touchdowns: 0\n",
      "\n",
      "Player Name: null\n",
      "Jersey Number: 0\n",
      "Yards Gained: 0.0\n",
      "Touchdowns: 0\n",
      "\n",
      "Player Name: null\n",
      "Jersey Number: 0\n",
      "Yards Gained: 0.0\n",
      "Touchdowns: 0\n",
      "\n",
      "Player Name: null\n",
      "Jersey Number: 0\n",
      "Yards Gained: 0.0\n",
      "Touchdowns: 0\n",
      "\n",
      "Player Name: null\n",
      "Jersey Number: 0\n",
      "Yards Gained: 0.0\n",
      "Touchdowns: 0\n",
      "\n",
      "Player Name: null\n",
      "Jersey Number: 0\n",
      "Yards Gained: 0.0\n",
      "Touchdowns: 0\n",
      "\n",
      "Player Name: null\n",
      "Jersey Number: 0\n",
      "Yards Gained: 0.0\n",
      "Touchdowns: 0\n",
      "\n",
      "Player Name: null\n",
      "Jersey Number: 0\n",
      "Yards Gained: 0.0\n",
      "Touchdowns: 0\n",
      "\n",
      "Player Name: null\n",
      "Jersey Number: 0\n",
      "Yards Gained: 0.0\n",
      "Touchdowns: 0\n",
      "\n",
      "Player Name: null\n",
      "Jersey Number: 0\n",
      "Yards Gained: 0.0\n",
      "Touchdowns: 0\n",
      "\n",
      "Player Name: null\n",
      "Jersey Number: 0\n",
      "Yards Gained: 0.0\n",
      "Touchdowns: 0\n",
      "\n",
      "Player Name: null\n",
      "Jersey Number: 0\n",
      "Yards Gained: 0.0\n",
      "Touchdowns: 0\n",
      "\n",
      "Player Name: null\n",
      "Jersey Number: 0\n",
      "Yards Gained: 0.0\n",
      "Touchdowns: 0\n",
      "\n",
      "Player Name: null\n",
      "Jersey Number: 0\n",
      "Yards Gained: 0.0\n",
      "Touchdowns: 0\n",
      "\n"
     ]
    }
   ],
   "source": [
    "public class NFLPlayerStats {\n",
    "    public static void main(String[] args) {\n",
    "        // Define the number of players on an NFL team\n",
    "        int numberOfPlayers = 53;\n",
    "\n",
    "        // Create arrays to store player information\n",
    "        String[] playerNames = new String[numberOfPlayers];\n",
    "        int[] jerseyNumbers = new int[numberOfPlayers];\n",
    "        double[] yardsGained = new double[numberOfPlayers];\n",
    "        int[] touchdowns = new int[numberOfPlayers];\n",
    "\n",
    "        // Simulate player data entry\n",
    "        playerNames[0] = \"Tom Brady\";\n",
    "        jerseyNumbers[0] = 12;\n",
    "        yardsGained[0] = 4567.5;\n",
    "        touchdowns[0] = 40;\n",
    "\n",
    "        playerNames[1] = \"Aaron Donald\";\n",
    "        jerseyNumbers[1] = 99;\n",
    "        yardsGained[1] = 0;\n",
    "        touchdowns[1] = 0;\n",
    "\n",
    "        // Simulate more player data...\n",
    "\n",
    "        // Using a for loop to display player stats\n",
    "        System.out.println(\"NFL Player Stats:\");\n",
    "        for (int i = 0; i < numberOfPlayers; i++) {\n",
    "            System.out.println(\"Player Name: \" + playerNames[i]);\n",
    "            System.out.println(\"Jersey Number: \" + jerseyNumbers[i]);\n",
    "            System.out.println(\"Yards Gained: \" + yardsGained[i]);\n",
    "            System.out.println(\"Touchdowns: \" + touchdowns[i]);\n",
    "            System.out.println();\n",
    "        }\n",
    "\n",
    "        // BONUS: Using a while loop to display player stats\n",
    "        System.out.println(\"NFL Player Stats (while loop):\");\n",
    "        int index = 0;\n",
    "        while (index < numberOfPlayers) {\n",
    "            System.out.println(\"Player Name: \" + playerNames[index]);\n",
    "            System.out.println(\"Jersey Number: \" + jerseyNumbers[index]);\n",
    "            System.out.println(\"Yards Gained: \" + yardsGained[index]);\n",
    "            System.out.println(\"Touchdowns: \" + touchdowns[index]);\n",
    "            System.out.println();\n",
    "            index++;\n",
    "        }\n",
    "    }\n",
    "}\n",
    "NFLPlayerStats.main(null)"
   ]
  },
  {
   "cell_type": "markdown",
   "metadata": {},
   "source": [
    "## Extra Credit NBA Code"
   ]
  },
  {
   "cell_type": "code",
   "execution_count": 6,
   "metadata": {
    "vscode": {
     "languageId": "java"
    }
   },
   "outputs": [
    {
     "name": "stdout",
     "output_type": "stream",
     "text": [
      "NBA Team Statistics:\n",
      "Team: Lakers\n",
      "Total Points: 292\n",
      "Total Assists: 170\n",
      "\n",
      "Team: Warriors\n",
      "Total Points: 232\n",
      "Total Assists: 108\n",
      "\n",
      "Team: Celtics\n",
      "Total Points: 221\n",
      "Total Assists: 131\n",
      "\n",
      "Team: Rockets\n",
      "Total Points: 177\n",
      "Total Assists: 80\n",
      "\n",
      "Team: Heat\n",
      "Total Points: 290\n",
      "Total Assists: 155\n",
      "\n"
     ]
    }
   ],
   "source": [
    "import java.util.Random;\n",
    "\n",
    "public class NBATeamStatistics {\n",
    "    public static void main(String[] args) {\n",
    "        // Define the number of NBA teams\n",
    "        int numberOfTeams = 5;\n",
    "\n",
    "        // Create arrays to store team information\n",
    "        String[] teamNames = {\"Lakers\", \"Warriors\", \"Celtics\", \"Rockets\", \"Heat\"};\n",
    "        int[] totalPoints = new int[numberOfTeams];\n",
    "        int[] totalAssists = new int[numberOfTeams];\n",
    "\n",
    "        // Simulate player data and calculate team statistics\n",
    "        Random random = new Random();\n",
    "        for (int i = 0; i < numberOfTeams; i++) {\n",
    "            int playersInTeam = random.nextInt(10) + 5; // Simulate 5-14 players per team\n",
    "            for (int j = 0; j < playersInTeam; j++) {\n",
    "                int pointsScored = random.nextInt(30) + 10; // Simulate 10-39 points per player\n",
    "                int assists = random.nextInt(15) + 5; // Simulate 5-19 assists per player\n",
    "                totalPoints[i] += pointsScored;\n",
    "                totalAssists[i] += assists;\n",
    "            }\n",
    "        }\n",
    "\n",
    "        // Display team statistics using a for loop\n",
    "        System.out.println(\"NBA Team Statistics:\");\n",
    "        for (int i = 0; i < numberOfTeams; i++) {\n",
    "            System.out.println(\"Team: \" + teamNames[i]);\n",
    "            System.out.println(\"Total Points: \" + totalPoints[i]);\n",
    "            System.out.println(\"Total Assists: \" + totalAssists[i]);\n",
    "            System.out.println();\n",
    "        }\n",
    "    }\n",
    "}\n",
    "NBATeamStatistics.main(null)"
   ]
  }
 ],
 "metadata": {
  "kernelspec": {
   "display_name": "Java",
   "language": "java",
   "name": "java"
  },
  "language_info": {
   "codemirror_mode": "java",
   "file_extension": ".jshell",
   "mimetype": "text/x-java-source",
   "name": "Java",
   "pygments_lexer": "java",
   "version": "17.0.8+7-Ubuntu-122.04"
  },
  "orig_nbformat": 4
 },
 "nbformat": 4,
 "nbformat_minor": 2
}
