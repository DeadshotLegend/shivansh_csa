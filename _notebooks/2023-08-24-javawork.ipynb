{
 "cells": [
  {
   "cell_type": "markdown",
   "metadata": {},
   "source": [
    "---\n",
    "layout: default\n",
    "title: Java Intro \n",
    "permalink: /java\n",
    "---"
   ]
  },
  {
   "cell_type": "markdown",
   "metadata": {},
   "source": [
    "## Java HACKS\n",
    "\n",
    "Go through progression of understanding a Static Class. Build a purposeful static Class, no Objects.\n",
    "- Calculate common operations on a Date field, age since date, older of two dates, number of seconds since date\n",
    "- Calculate stats functions on an array of values: mean, median, mode."
   ]
  },
  {
   "cell_type": "code",
   "execution_count": 37,
   "metadata": {
    "vscode": {
     "languageId": "java"
    }
   },
   "outputs": [
    {
     "name": "stdout",
     "output_type": "stream",
     "text": [
      "Age: 33\n",
      "Older Date: Mon Jan 01 00:00:00 PST 1990\n",
      "Seconds since Date: 1061800189\n",
      "Mean: 5.877777777777778\n",
      "Median: 5.2\n",
      "Mode: 3.7\n"
     ]
    }
   ],
   "source": [
    "import java.util.Arrays;\n",
    "import java.util.Date;\n",
    "import java.util.HashMap;\n",
    "import java.util.Map;\n",
    "\n",
    "public class UtilityClass {\n",
    "    \n",
    "    // Static method to calculate age since a given date\n",
    "    public static int calculateAgeSinceDate(Date birthDate, Date currentDate) {\n",
    "        long diff = currentDate.getTime() - birthDate.getTime();\n",
    "        return (int) (diff / (1000L * 60 * 60 * 24 * 365));\n",
    "    }\n",
    "\n",
    "    // Static method to find the older of two dates\n",
    "    public static Date olderDate(Date date1, Date date2) {\n",
    "        return date1.before(date2) ? date1 : date2;\n",
    "    }\n",
    "\n",
    "    // Static method to calculate the number of seconds since a given date\n",
    "    public static long secondsSinceDate(Date referenceDate, Date currentDate) {\n",
    "        long diff = currentDate.getTime() - referenceDate.getTime();\n",
    "        return diff / 1000L;\n",
    "    }\n",
    "\n",
    "    // Static method to calculate the mean of an array of values\n",
    "    public static double calculateMean(double[] values) {\n",
    "        double sum = 0;\n",
    "        for (double value : values) {\n",
    "            sum += value;\n",
    "        }\n",
    "        return sum / values.length;\n",
    "    }\n",
    "\n",
    "    // Static method to calculate the median of an array of values\n",
    "    public static double calculateMedian(double[] values) {\n",
    "        Arrays.sort(values);\n",
    "        int middle = values.length / 2;\n",
    "        if (values.length % 2 == 0) {\n",
    "            return (values[middle - 1] + values[middle]) / 2.0;\n",
    "        } else {\n",
    "            return values[middle];\n",
    "        }\n",
    "    }\n",
    "\n",
    "    // Static method to calculate the mode of an array of values\n",
    "    public static double calculateMode(double[] values) {\n",
    "        Map<Double, Integer> valueCount = new HashMap<>();\n",
    "        double mode = 0;\n",
    "        int maxCount = 0;\n",
    "\n",
    "        for (double value : values) {\n",
    "            int count = valueCount.getOrDefault(value, 0) + 1;\n",
    "            valueCount.put(value, count);\n",
    "            if (count > maxCount) {\n",
    "                maxCount = count;\n",
    "                mode = value;\n",
    "            }\n",
    "        }\n",
    "\n",
    "        return mode;\n",
    "    }\n",
    "    \n",
    "    public static void main(String[] args) {\n",
    "        // Example usage\n",
    "        Date birthDate = new Date(90, 0, 1); // January 1, 1990\n",
    "        Date currentDate = new Date(); // Current date\n",
    "\n",
    "        int age = calculateAgeSinceDate(birthDate, currentDate);\n",
    "        Date older = olderDate(birthDate, currentDate);\n",
    "        long seconds = secondsSinceDate(birthDate, currentDate);\n",
    "\n",
    "        double[] data = { 5.2, 3.7, 8.6, 2.1, 5.2, 7.9, 8.6, 3.7, 7.9 };\n",
    "        double mean = calculateMean(data);\n",
    "        double median = calculateMedian(data);\n",
    "        double mode = calculateMode(data);\n",
    "\n",
    "        // Print results\n",
    "        System.out.println(\"Age: \" + age);\n",
    "        System.out.println(\"Older Date: \" + older);\n",
    "        System.out.println(\"Seconds since Date: \" + seconds);\n",
    "        System.out.println(\"Mean: \" + mean);\n",
    "        System.out.println(\"Median: \" + median);\n",
    "        System.out.println(\"Mode: \" + mode);\n",
    "    }\n",
    "}\n",
    "\n",
    "UtilityClass.main(new String[]{});\n"
   ]
  },
  {
   "cell_type": "markdown",
   "metadata": {},
   "source": [
    "This code defines a UtilityClass with static methods for performing common date and statistics operations. It includes examples of how to use these methods in the main method at the end of the class.\n",
    "\n",
    "\n",
    "\n",
    "\n"
   ]
  }
 ],
 "metadata": {
  "kernelspec": {
   "display_name": "Java",
   "language": "java",
   "name": "java"
  },
  "language_info": {
   "codemirror_mode": "java",
   "file_extension": ".jshell",
   "mimetype": "text/x-java-source",
   "name": "Java",
   "pygments_lexer": "java",
   "version": "17.0.8+7-Ubuntu-122.04"
  },
  "orig_nbformat": 4
 },
 "nbformat": 4,
 "nbformat_minor": 2
}
