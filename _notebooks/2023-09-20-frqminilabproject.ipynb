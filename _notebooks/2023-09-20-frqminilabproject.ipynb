{
 "cells": [
  {
   "cell_type": "markdown",
   "metadata": {},
   "source": [
    "---\n",
    "layout: default\n",
    "title: FRQ Mini Lab Project\n",
    "type: tangibles\n",
    "courses: { 'csa': {'week':4 }}\n",
    "---"
   ]
  },
  {
   "cell_type": "markdown",
   "metadata": {},
   "source": [
    "## Overall Explanation of 2D Arrays\n",
    "\n",
    "A two-dimensional (2D) array in programming is a data structure that stores elements in a grid-like or tabular format, organized in rows and columns. It's essentially an array of arrays, where each element is uniquely identified by a pair of indices: a row index and a column index. Here's an overall explanation of 2D arrays:"
   ]
  },
  {
   "cell_type": "markdown",
   "metadata": {},
   "source": [
    "### CSA 2022 FRQ College Board\n",
    "\n",
    "This question involves a two-dimensional array of integers that represents a collection of randomly generated data. A partial declaration of the Data class is shown. You will write two methods of the Data class.\n"
   ]
  },
  {
   "cell_type": "code",
   "execution_count": null,
   "metadata": {
    "vscode": {
     "languageId": "java"
    }
   },
   "outputs": [],
   "source": [
    "public class Data\n",
    "{\n",
    "    public static final int MAX = /*  */\n",
    "    private int[] grid;\n",
    "\n",
    "    public void repopulate() {\n",
    "    // Fills all elements of grid with randomly generated values\n",
    "    // Precondition: grid is not null and has at least one element\n",
    "    }\n",
    "\n",
    "    int countIncreasingCols() {\n",
    "    // Returns the number of columns in grid that are in increasing order\n",
    "    // Precondition: grid is not null and has at least one element\n",
    "    }\n",
    "\n",
    "    \n",
    "\n",
    "    \n",
    "}"
   ]
  },
  {
   "cell_type": "markdown",
   "metadata": {},
   "source": [
    "This code uses a Random object to generate random numbers and ensures that the generated values meet the specified criteria before assigning them to the grid."
   ]
  },
  {
   "cell_type": "code",
   "execution_count": 36,
   "metadata": {
    "vscode": {
     "languageId": "java"
    }
   },
   "outputs": [],
   "source": [
    "import java.util.Random;\n",
    "// provides functionality for generating pseudorandom numbers\n",
    "// Pseudorandom numbers are generated using an algorithm, and they appear random\n",
    "\n",
    "public void repopulate() {\n",
    "    \n",
    "    if (grid == null || grid.length == 0 || grid[0].length == 0) {\n",
    "        // Checks if grid has anything in it, if there is anything in the grid, and if first row of the grid exists\n",
    "        // The || operator says if one of these are true then the entire expression is true\n",
    "        return;\n",
    "    }\n",
    "\n",
    "    Random random = new Random();\n",
    "    // create an object of this random class\n",
    "\n",
    "    for (int row = 0; row < grid.length; row++) { //This line starts a loop that iterates over the rows of a two-dimensional array grid   // \n",
    "        // The loop variable row is initialized to 0, and the loop continues as long as row is less than the number of rows in the grid array (grid.length).\n",
    "        for (int col = 0; col < grid[row].length; col++) {  // Within the outer loop, there's an inner loop that iterates over the columns of the current row (grid[row])\n",
    "            // The loop variable col is initialized to 0, and the loop continues as long as col is less than the number of columns in the current row (grid[row].length).\n",
    "            \n",
    "            // Generate a random number between 1 and MAX (inclusive)\n",
    "            int randomValue = random.nextInt(MAX) + 1;\n",
    "\n",
    "            // Check if the value is divisible by 10 and not divisible by 100\n",
    "            while (randomValue % 10 != 0 || randomValue % 100 == 0) {\n",
    "                randomValue = random.nextInt(MAX) + 1;\n",
    "            // if randomValue doesn't meet the conditions, a new random value is generated and assigned to randomValue. \n",
    "            }\n",
    "\n",
    "            // Assign the generated value to the current element in the grid\n",
    "            grid[row][col] = randomValue;\n",
    "        }\n",
    "    }\n",
    "}\n",
    "\n"
   ]
  },
  {
   "cell_type": "markdown",
   "metadata": {},
   "source": [
    "In summary, this code block is used to populate a two-dimensional array grid with random integer values between 1 and MAX, where each value is required to be divisible by 10 and not divisible by 100. It iterates through each row and column of the array, generating and assigning random values until the conditions are met for each element in the array."
   ]
  },
  {
   "cell_type": "markdown",
   "metadata": {},
   "source": [
    "This method iterates over each column in the grid and checks whether each column is in increasing order by comparing each element in a column with the element in the previous row. If all comparisons in a column indicate that it's in increasing order, the count is incremented. Finally, the method returns the count of columns that meet the criteria."
   ]
  },
  {
   "cell_type": "code",
   "execution_count": 42,
   "metadata": {
    "vscode": {
     "languageId": "java"
    }
   },
   "outputs": [],
   "source": [
    "import java.util.Random;\n",
    "\n",
    "    public int countIncreasingCols() {\n",
    "        // Preconditions: grid is not null and grid has at least one character\n",
    "\n",
    "        if (grid == null || grid.length == 0 || grid[0].length == 0) {\n",
    "            // Handle invalid grid input\n",
    "            return 0;\n",
    "        }\n",
    "\n",
    "        int count = 0;\n",
    "\n",
    "        // Iterate over each column\n",
    "        for (int col = 0; col < grid[0].length; col++) {\n",
    "            boolean isIncreasing = true;\n",
    "\n",
    "            // Check each row in the column\n",
    "            for (int row = 1; row < grid.length; row++) {\n",
    "                if (grid[row][col] < grid[row - 1][col]) {\n",
    "                    // If the current element is less than the previous element in the column, it's not in increasing order\n",
    "                    isIncreasing = false;\n",
    "                    break;\n",
    "                }\n",
    "            }\n",
    "\n",
    "            if (isIncreasing) {\n",
    "                // If the column is in increasing order, increment the count\n",
    "                count++;\n",
    "            }\n",
    "        }\n",
    "\n",
    "        return count;\n",
    "    }\n",
    "\n"
   ]
  },
  {
   "cell_type": "code",
   "execution_count": 47,
   "metadata": {
    "vscode": {
     "languageId": "java"
    }
   },
   "outputs": [
    {
     "name": "stdout",
     "output_type": "stream",
     "text": [
      "60\t60\t50\t10\t\n",
      "20\t50\t40\t20\t\n",
      "30\t50\t80\t70\t\n",
      "Number of increasing columns: 1\n"
     ]
    }
   ],
   "source": [
    "import java.util.Random;\n",
    "\n",
    "public class Data {\n",
    "    public static final int MAX = 100; // Set MAX to your desired maximum value\n",
    "    private int[][] grid;\n",
    "\n",
    "    public Data(int numRows, int numCols) {\n",
    "        // Initialize the grid with the specified dimensions\n",
    "        grid = new int[numRows][numCols];\n",
    "    }\n",
    "\n",
    "    public int countIncreasingCols() {\n",
    "        // Preconditions: grid is not null and grid has at least one character\n",
    "\n",
    "        if (grid == null || grid.length == 0 || grid[0].length == 0) {\n",
    "            // Handle invalid grid input\n",
    "            return 0;\n",
    "        }\n",
    "\n",
    "        int count = 0;\n",
    "\n",
    "        // Iterate over each column\n",
    "        for (int col = 0; col < grid[0].length; col++) {\n",
    "            boolean isIncreasing = true;\n",
    "\n",
    "            // Check each row in the column\n",
    "            for (int row = 1; row < grid.length; row++) {\n",
    "                if (grid[row][col] < grid[row - 1][col]) {\n",
    "                    // If the current element is less than the previous element in the column, it's not in increasing order\n",
    "                    isIncreasing = false;\n",
    "                    break;\n",
    "                }\n",
    "            }\n",
    "\n",
    "            if (isIncreasing) {\n",
    "                // If the column is in increasing order, increment the count\n",
    "                count++;\n",
    "            }\n",
    "        }\n",
    "\n",
    "        return count;\n",
    "    }\n",
    "    \n",
    "    public void repopulate() {\n",
    "        if (grid == null || grid.length == 0 || grid[0].length == 0) {\n",
    "            System.out.println(\"The grid is empty. Cannot populate.\");\n",
    "            return;\n",
    "        }\n",
    "\n",
    "        Random random = new Random();\n",
    "\n",
    "        for (int row = 0; row < grid.length; row++) {\n",
    "            for (int col = 0; col < grid[row].length; col++) {\n",
    "                int randomValue;\n",
    "\n",
    "                do {\n",
    "                    // Generate a random number between 1 and MAX (inclusive)\n",
    "                    randomValue = random.nextInt(MAX) + 1;\n",
    "                } while (randomValue % 10 != 0 || randomValue % 100 == 0);\n",
    "\n",
    "                // Assign the generated value to the current element in the grid\n",
    "                grid[row][col] = randomValue;\n",
    "            }\n",
    "        }\n",
    "    }\n",
    "\n",
    "    public void printGrid() {\n",
    "        if (grid == null || grid.length == 0 || grid[0].length == 0) {\n",
    "            System.out.println(\"The grid is empty.\");\n",
    "            return;\n",
    "        }\n",
    "\n",
    "        for (int[] row : grid) {\n",
    "            for (int element : row) {\n",
    "                System.out.print(element + \"\\t\"); // Separate elements with tabs\n",
    "            }\n",
    "            System.out.println(); // Move to the next row\n",
    "        }\n",
    "    }\n",
    "\n",
    "    public static void main(String[] args) {\n",
    "        int numRows = 3; // Set the number of rows\n",
    "        int numCols = 4; // Set the number of columns\n",
    "\n",
    "        Data data = new Data(numRows, numCols);\n",
    "\n",
    "        // Populate the grid\n",
    "        data.repopulate();\n",
    "\n",
    "        // Print the grid\n",
    "        data.printGrid();\n",
    "        int increasingCols = data.countIncreasingCols();\n",
    "        System.out.println(\"Number of increasing columns: \" + increasingCols);\n",
    "    }\n",
    "}\n",
    "\n",
    "Data.main(null)\n",
    "\n"
   ]
  },
  {
   "cell_type": "markdown",
   "metadata": {},
   "source": [
    "## Recap (TAKE NOTES!!!)"
   ]
  },
  {
   "cell_type": "markdown",
   "metadata": {},
   "source": [
    "In summary, iterating through a 2D array in Java involves using nested loops to visit each element systematically. The outer loop controls the row index, the inner loop controls the column index, and you access and process each element using these indices. Understanding how to iterate through 2D arrays is essential for working with multidimensional data structures in Java."
   ]
  }
 ],
 "metadata": {
  "kernelspec": {
   "display_name": "Java",
   "language": "java",
   "name": "java"
  },
  "language_info": {
   "codemirror_mode": "java",
   "file_extension": ".jshell",
   "mimetype": "text/x-java-source",
   "name": "Java",
   "pygments_lexer": "java",
   "version": "17.0.8+7-Ubuntu-122.04"
  },
  "orig_nbformat": 4
 },
 "nbformat": 4,
 "nbformat_minor": 2
}
