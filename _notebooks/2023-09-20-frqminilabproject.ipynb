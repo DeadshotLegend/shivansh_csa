{
 "cells": [
  {
   "cell_type": "markdown",
   "metadata": {},
   "source": [
    "---\n",
    "layout: default\n",
    "title: FRQ Mini Lab Project\n",
    "type: tangibles\n",
    "courses: { 'csa': {'week':4 }}\n",
    "---"
   ]
  },
  {
   "cell_type": "markdown",
   "metadata": {},
   "source": [
    "### CSA 2022 FRQ College Board\n",
    "\n",
    "This question involves a two-dimensional array of integers that represents a collection of randomly generated data. A partial declaration of the Data class is shown. You will write two methods of the Data class.\n"
   ]
  },
  {
   "cell_type": "code",
   "execution_count": null,
   "metadata": {
    "vscode": {
     "languageId": "java"
    }
   },
   "outputs": [],
   "source": [
    "public class Data\n",
    "{\n",
    "    public static final int MAX = /*  */\n",
    "    private int[] grid;\n",
    "\n",
    "    \n",
    "}"
   ]
  },
  {
   "cell_type": "markdown",
   "metadata": {},
   "source": [
    "This code uses a Random object to generate random numbers and ensures that the generated values meet the specified criteria before assigning them to the grid."
   ]
  },
  {
   "cell_type": "code",
   "execution_count": 1,
   "metadata": {
    "vscode": {
     "languageId": "java"
    }
   },
   "outputs": [],
   "source": [
    "import java.util.Random;\n",
    "\n",
    "public void repopulate() {\n",
    "    // Preconditions: grid is not null and grid has at least one character\n",
    "\n",
    "    if (grid == null || grid.length == 0 || grid[0].length == 0) {\n",
    "        // Handle invalid grid input\n",
    "        return;\n",
    "    }\n",
    "\n",
    "    Random random = new Random();\n",
    "\n",
    "    for (int row = 0; row < grid.length; row++) {\n",
    "        for (int col = 0; col < grid[row].length; col++) {\n",
    "            // Generate a random number between 1 and MAX (inclusive)\n",
    "            int randomValue = random.nextInt(MAX) + 1;\n",
    "\n",
    "            // Check if the value is divisible by 10 and not divisible by 100\n",
    "            while (randomValue % 10 != 0 || randomValue % 100 == 0) {\n",
    "                randomValue = random.nextInt(MAX) + 1;\n",
    "            }\n",
    "\n",
    "            // Assign the generated value to the current element in the grid\n",
    "            grid[row][col] = randomValue;\n",
    "        }\n",
    "    }\n",
    "}\n",
    "\n"
   ]
  },
  {
   "cell_type": "markdown",
   "metadata": {},
   "source": [
    "This method iterates over each column in the grid and checks whether each column is in increasing order by comparing each element in a column with the element in the previous row. If all comparisons in a column indicate that it's in increasing order, the count is incremented. Finally, the method returns the count of columns that meet the criteria."
   ]
  },
  {
   "cell_type": "code",
   "execution_count": null,
   "metadata": {
    "vscode": {
     "languageId": "java"
    }
   },
   "outputs": [],
   "source": [
    "public int countIncreasingCols() {\n",
    "    // Preconditions: grid is not null and grid has at least one character\n",
    "\n",
    "    if (grid == null || grid.length == 0 || grid[0].length == 0) {\n",
    "        // Handle invalid grid input\n",
    "        return 0;\n",
    "    }\n",
    "\n",
    "    int count = 0;\n",
    "\n",
    "    // Iterate over each column\n",
    "    for (int col = 0; col < grid[0].length; col++) {\n",
    "        boolean isIncreasing = true;\n",
    "\n",
    "        // Check each row in the column\n",
    "        for (int row = 1; row < grid.length; row++) {\n",
    "            if (grid[row][col] < grid[row - 1][col]) {\n",
    "                // If the current element is less than the previous element in the column, it's not in increasing order\n",
    "                isIncreasing = false;\n",
    "                break;\n",
    "            }\n",
    "        }\n",
    "\n",
    "        if (isIncreasing) {\n",
    "            // If the column is in increasing order, increment the count\n",
    "            count++;\n",
    "        }\n",
    "    }\n",
    "\n",
    "    return count;\n",
    "}\n"
   ]
  }
 ],
 "metadata": {
  "kernelspec": {
   "display_name": "Java",
   "language": "java",
   "name": "java"
  },
  "language_info": {
   "codemirror_mode": "java",
   "file_extension": ".jshell",
   "mimetype": "text/x-java-source",
   "name": "Java",
   "pygments_lexer": "java",
   "version": "17.0.8+7-Ubuntu-122.04"
  },
  "orig_nbformat": 4
 },
 "nbformat": 4,
 "nbformat_minor": 2
}
