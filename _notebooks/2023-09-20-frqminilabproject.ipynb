{
 "cells": [
  {
   "cell_type": "markdown",
   "metadata": {},
   "source": [
    "---\n",
    "layout: default\n",
    "title: FRQ Mini Lab Project\n",
    "type: tangibles\n",
    "courses: { 'csa': {'week':4 }}\n",
    "---"
   ]
  },
  {
   "cell_type": "markdown",
   "metadata": {},
   "source": [
    "### CSA 2022 FRQ College Board\n",
    "\n",
    "This question involves a two-dimensional array of integers that represents a collection of randomly generated data. A partial declaration of the Data class is shown. You will write two methods of the Data class.\n"
   ]
  },
  {
   "cell_type": "code",
   "execution_count": null,
   "metadata": {},
   "outputs": [],
   "source": [
    "public class Data\n",
    "{\n",
    "    public static final int MAX = /*  */\n",
    "    private int[] grid;\n",
    "\n",
    "    \n",
    "}"
   ]
  },
  {
   "cell_type": "code",
   "execution_count": null,
   "metadata": {},
   "outputs": [],
   "source": [
    "public class Data\n",
    "{\n",
    "    \n",
    "    public static final int MAX = / * value not shown * / ;\n",
    "    private int[][] grid;\n",
    "\n",
    "\n",
    "public void repopulate ()\n",
    "{\n",
    "\n",
    "    // Fils all elements of grid wit randomly generated values, as described in part a)\n",
    "    // Preconditions: grid is not null and grid has at least one character\n",
    " }\n",
    "\n",
    "\n",
    "public int countIncreasingCols ()\n",
    "{ \n",
    "\n",
    "    // Returns the number of columns in grid that are increasing in order\n",
    "    // Preconditions: grid is not null and grid has at least one character\n",
    "\n",
    "}\n",
    "\n",
    "}\n"
   ]
  }
 ],
 "metadata": {
  "kernelspec": {
   "display_name": "Java",
   "language": "java",
   "name": "java"
  },
  "language_info": {
   "name": "java"
  },
  "orig_nbformat": 4
 },
 "nbformat": 4,
 "nbformat_minor": 2
}
