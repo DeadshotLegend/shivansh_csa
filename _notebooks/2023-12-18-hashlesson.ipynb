{
 "cells": [
  {
   "cell_type": "markdown",
   "metadata": {},
   "source": [
    "---\n",
    "toc: true\n",
    "comments: true\n",
    "layout: notebook\n",
    "title: Hasmap & SQL\n",
    "description: By Shaurya and James Shivansh Goel\n",
    "courses: {'csa': {'week': 12}}\n",
    "type: hacks\n",
    "---"
   ]
  },
  {
   "cell_type": "markdown",
   "metadata": {},
   "source": [
    "Shaurya\n",
    "James\n",
    "Shivansh"
   ]
  },
  {
   "cell_type": "markdown",
   "metadata": {},
   "source": [
    "# Key Concepts:\n",
    "\n",
    "## Hashing\n",
    "HashMap uses a hash function to map keys to their respective buckets.\n",
    "A good hash function generates a unique hash code for each key, but collisions can still occur.\n",
    "The hash map in Java does not maintain insertion order.\n",
    "\n",
    "## Performance\n",
    "\n",
    "HashMap provides constant-time performance (O(1)) for get() and put() operations.\n",
    "Performance can degrade to O(n) in the worst case, especially if there are many hash collisions.\n",
    "\n",
    "## Key and Value Types\n",
    "\n",
    "HashMap allows any non-null object as a key and any object (including null) as a value.\n",
    "For a class to be used as a key, it must implement the equals() and hashCode() methods.\n",
    "\n",
    "\n",
    "## Iteration:\n",
    "\n",
    "HashMap provides methods like keySet(), values(), and entrySet() for iterating over key-value pairs.\n",
    "The entrySet() method returns a Set view of key-value pairs, allowing iteration and modification.\n",
    "\n",
    "## Thread Safety\n",
    "\n",
    "HashMap is not thread-safe. For thread-safe operations, use ConcurrentHashMap."
   ]
  },
  {
   "cell_type": "markdown",
   "metadata": {},
   "source": [
    "## HashMaps in Java - Pet Registry Example"
   ]
  },
  {
   "cell_type": "code",
   "execution_count": 9,
   "metadata": {
    "vscode": {
     "languageId": "java"
    }
   },
   "outputs": [],
   "source": [
    "public class Pet {\n",
    "    private final String name;\n",
    "    private final int age;\n",
    "    private final String color;\n",
    "\n",
    "    public Pet(String name, int age, String color) {\n",
    "        this.name = name;\n",
    "        this.age = age;\n",
    "        this.color = color;\n",
    "    }\n",
    "\n",
    "    public String getName() {\n",
    "        return this.name;\n",
    "    }\n",
    "\n",
    "    public int getAge() {\n",
    "        return this.age;\n",
    "    }\n",
    "\n",
    "    public String getColor() {\n",
    "        return this.color;\n",
    "    }\n",
    "}\n"
   ]
  },
  {
   "cell_type": "code",
   "execution_count": 10,
   "metadata": {
    "vscode": {
     "languageId": "java"
    }
   },
   "outputs": [
    {
     "name": "stdout",
     "output_type": "stream",
     "text": [
      "Hobbes is a Calico Kitty and is 1 years old.\n",
      "Leo is a Gold Lion and is 8 years old.\n",
      "Porky is a Pink Pig and is 3 years old.\n",
      "Ro-Ro is a Red Robin and is 7 years old.\n",
      "Duke is a Brown Dog and is 14 years old.\n",
      "Midnight is a Black Cat and is 10 years old.\n",
      "\n",
      "Removed: Hobbes, REPL.$JShell$16E$Pet@63b16b54\n",
      "Leo is a Gold Lion and is 8 years old.\n",
      "Porky is a Pink Pig and is 3 years old.\n",
      "Ro-Ro is a Red Robin and is 7 years old.\n",
      "Duke is a Brown Dog and is 14 years old.\n",
      "Midnight is a Black Cat and is 10 years old.\n",
      "\n"
     ]
    }
   ],
   "source": [
    "public class PetsRegistry {\n",
    "    private HashMap<String, Pet> petRegistry = new HashMap<>();\n",
    "\n",
    "    public PetsRegistry() {\n",
    "        // Add some pets to the registry\n",
    "        petRegistry.put(\"Leo\", new Pet(\"Lion\", 8, \"Gold\"));\n",
    "        petRegistry.put(\"Porky\", new Pet(\"Pig\", 3, \"Pink\"));\n",
    "        petRegistry.put(\"Ro-Ro\", new Pet(\"Robin\", 7, \"Red\"));\n",
    "        petRegistry.put(\"Midnight\", new Pet(\"Cat\", 10, \"Black\"));\n",
    "        petRegistry.put(\"Hobbes\", new Pet(\"Kitty\", 1, \"Calico\"));\n",
    "        petRegistry.put(\"Duke\", new Pet(\"Dog\", 14, \"Brown\"));\n",
    "    }\n",
    "\n",
    "    public Pet removePet(String name) {\n",
    "        // Remove a pet by name\n",
    "        return petRegistry.remove(name);\n",
    "    }\n",
    "\n",
    "    public void printRegistry() {\n",
    "        // Iterate over the registry and print pet information\n",
    "        for (String name : petRegistry.keySet()) {\n",
    "            Pet pet = petRegistry.get(name);\n",
    "            System.out.println(name + \" is a \" + pet.getColor() + \" \" + pet.getName() +\n",
    "                    \" and is \" + pet.getAge() + \" years old.\");\n",
    "        }\n",
    "        System.out.println();\n",
    "    }\n",
    "\n",
    "    public static void main(String[] args) {\n",
    "        // Initialize the pet registry\n",
    "        PetsRegistry petsRegistry = new PetsRegistry();\n",
    "        petsRegistry.printRegistry();\n",
    "\n",
    "        // Remove a pet\n",
    "        String petNameToRemove = \"Hobbes\";\n",
    "        Pet removedPet = petsRegistry.removePet(petNameToRemove);\n",
    "        if (removedPet == null) {\n",
    "            System.out.println(petNameToRemove + \" not found\");\n",
    "        } else {\n",
    "            System.out.println(\"Removed: \" + petNameToRemove + \", \" + removedPet);\n",
    "        }\n",
    "\n",
    "        // Print the updated registry\n",
    "        petsRegistry.printRegistry();\n",
    "    }\n",
    "}\n",
    "PetsRegistry.main(null)"
   ]
  },
  {
   "cell_type": "markdown",
   "metadata": {},
   "source": []
  }
 ],
 "metadata": {
  "kernelspec": {
   "display_name": "Java",
   "language": "java",
   "name": "java"
  },
  "language_info": {
   "codemirror_mode": "java",
   "file_extension": ".jshell",
   "mimetype": "text/x-java-source",
   "name": "Java",
   "pygments_lexer": "java",
   "version": "17.0.8+7-Ubuntu-122.04"
  }
 },
 "nbformat": 4,
 "nbformat_minor": 2
}
