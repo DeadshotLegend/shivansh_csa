{
 "cells": [
  {
   "cell_type": "markdown",
   "metadata": {},
   "source": [
    "---\n",
    "toc: true\n",
    "comments: false\n",
    "layout: post\n",
    "title: College Board Quiz Blog\n",
    "description: College Board Quiz\n",
    "type: hacks\n",
    "courses: { csa: {week: 11} }\n",
    "permalink: /unit-7\n",
    "---"
   ]
  }
 ],
 "metadata": {
  "language_info": {
   "name": "python"
  }
 },
 "nbformat": 4,
 "nbformat_minor": 2
}
