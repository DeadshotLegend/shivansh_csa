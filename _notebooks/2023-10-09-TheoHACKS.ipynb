{
 "cells": [
  {
   "cell_type": "markdown",
   "metadata": {},
   "source": [
    "---\n",
    "layout: post\n",
    "title: Shaurya Goel Hacks UNIT 2\n",
    "description: \n",
    "type: tangibles\n",
    "courses: { csa: {week: 7}}\n",
    "---"
   ]
  },
  {
   "cell_type": "code",
   "execution_count": 16,
   "metadata": {},
   "outputs": [
    {
     "name": "stdout",
     "output_type": "stream",
     "text": [
      "7\n"
     ]
    }
   ],
   "source": [
    "import java.util.ArrayList;\n",
    "\n",
    "public class Hack1 {\n",
    "    private ArrayList<Integer> arrayList = new ArrayList<>();\n",
    "\n",
    "    public void addToArrayList(int value) {\n",
    "        arrayList.add(value);\n",
    "    }\n",
    "\n",
    "    public int getValueAtIndex(int index) {\n",
    "        if (index >= 0 && index < arrayList.size()) {\n",
    "            return arrayList.get(index);\n",
    "        } else {\n",
    "            \n",
    "            return -1; \n",
    "        }\n",
    "    }\n",
    "\n",
    "    public static void main(String[] args) {\n",
    "        Hack1 hack = new Hack1(); \n",
    "\n",
    "        Integer x = 7;\n",
    "        hack.addToArrayList(x);\n",
    "        hack.addToArrayList(4);\n",
    "        hack.addToArrayList(x);\n",
    "        hack.addToArrayList(x);\n",
    "        hack.addToArrayList(4);\n",
    "        hack.addToArrayList(x);\n",
    "        hack.addToArrayList(x);\n",
    "        hack.addToArrayList(x);\n",
    "\n",
    "        System.out.println(hack.getValueAtIndex(6)); \n",
    "    }\n",
    "}\n",
    "\n",
    "Hack1.main(null)\n"
   ]
  }
 ],
 "metadata": {
  "kernelspec": {
   "display_name": "Java",
   "language": "java",
   "name": "java"
  },
  "language_info": {
   "name": "java"
  },
  "orig_nbformat": 4
 },
 "nbformat": 4,
 "nbformat_minor": 2
}
