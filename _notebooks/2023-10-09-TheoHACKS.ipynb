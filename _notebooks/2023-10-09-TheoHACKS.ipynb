{
 "cells": [
  {
   "cell_type": "markdown",
   "metadata": {},
   "source": [
    "---\n",
    "layout: post\n",
    "title: Shaurya Goel Hacks UNIT 2\n",
    "description: \n",
    "type: tangibles\n",
    "courses: { csa: {week: 7}}\n",
    "---"
   ]
  },
  {
   "cell_type": "code",
   "execution_count": 5,
   "metadata": {
    "vscode": {
     "languageId": "java"
    }
   },
   "outputs": [
    {
     "ename": "CompilationException",
     "evalue": "",
     "output_type": "error",
     "traceback": [
      "\u001b[1m\u001b[30m|   \u001b[1m\u001b[30m\u001b[0m\u001b[1m\u001b[30m\u001b[41mHack1.getValueAtIndex\u001b[0m\u001b[1m\u001b[30m(2)\u001b[0m",
      "\u001b[1m\u001b[31mnon-static method getValueAtIndex(int) cannot be referenced from a static context\u001b[0m",
      ""
     ]
    }
   ],
   "source": [
    "import java.util.ArrayList;\n",
    "\n",
    "public class Hack1 {\n",
    "    private ArrayList<Integer> arrayList = new ArrayList<>();\n",
    "\n",
    "    public void addToArrayList(int value) {\n",
    "        arrayList.add(value);\n",
    "    }\n",
    "\n",
    "    public int getValueAtIndex(int index) {\n",
    "        if (index >= 0 && index < arrayList.size()) {\n",
    "            return arrayList.get(index);\n",
    "        } else {\n",
    "            // Handle index out of bounds\n",
    "            return -1; // You can choose an appropriate error value\n",
    "        }\n",
    "    }\n",
    "}\n",
    "\n"
   ]
  },
  {
   "cell_type": "markdown",
   "metadata": {},
   "source": [
    "# HACK 2"
   ]
  },
  {
   "cell_type": "code",
   "execution_count": null,
   "metadata": {
    "vscode": {
     "languageId": "java"
    }
   },
   "outputs": [],
   "source": [
    "import java.util.Random;\n",
    "import java.util.Scanner;\n",
    "\n",
    "public class GuessingGame {\n",
    "    private static int randomNumber;\n",
    "    private static int randomExponent;\n",
    "    \n",
    "    public static void main(String[] args) {\n",
    "        generateRandomNumber();\n",
    "        generateRandomExponent();\n",
    "        \n",
    "        System.out.println(\"Welcome to the Guessing Game!\");\n",
    "        System.out.println(\"You need to guess the root and exponent of a number.\");\n",
    "\n",
    "        Scanner scanner = new Scanner(System.in);\n",
    "        int guessRoot;\n",
    "        int guessExponent;\n",
    "        \n",
    "        do {\n",
    "            System.out.print(\"Enter your guess for the root: \");\n",
    "            guessRoot = scanner.nextInt();\n",
    "            \n",
    "            System.out.print(\"Enter your guess for the exponent: \");\n",
    "            guessExponent = scanner.nextInt();\n",
    "            \n",
    "            checkGuess(guessRoot, guessExponent);\n",
    "        } while (guessRoot != randomNumber || guessExponent != randomExponent);\n",
    "        \n",
    "        System.out.println(\"Congratulations! You've guessed the correct root and exponent.\");\n",
    "    }\n",
    "\n",
    "    private static void generateRandomNumber() {\n",
    "        Random random = new Random();\n",
    "        randomNumber = random.nextInt(10) + 1; // Generates a random number between 1 and 10\n",
    "    }\n",
    "\n",
    "    private static void generateRandomExponent() {\n",
    "        Random random = new Random();\n",
    "        randomExponent = random.nextInt(4) + 2; // Generates a random exponent between 2 and 5\n",
    "    }\n",
    "\n",
    "    private static void checkGuess(int guessRoot, int guessExponent) {\n",
    "        if (guessRoot == randomNumber && guessExponent == randomExponent) {\n",
    "            System.out.println(\"Congratulations! You've guessed the correct root and exponent.\");\n",
    "        } else {\n",
    "            System.out.println(\"Sorry, that's not correct. Try again.\");\n",
    "            // Provide hints here based on the difference between the guess and the actual values.\n",
    "            if (guessRoot != randomNumber) {\n",
    "                System.out.println(\"Hint: The root is not \" + guessRoot + \".\");\n",
    "            }\n",
    "            if (guessExponent != randomExponent) {\n",
    "                System.out.println(\"Hint: The exponent is not \" + guessExponent + \".\");\n",
    "            }\n",
    "        }\n",
    "    }\n",
    "}\n"
   ]
  },
  {
   "cell_type": "markdown",
   "metadata": {},
   "source": [
    "# HACK 3"
   ]
  },
  {
   "cell_type": "code",
   "execution_count": 2,
   "metadata": {
    "vscode": {
     "languageId": "java"
    }
   },
   "outputs": [],
   "source": [
    "public class MyClass {\n",
    "    private int intValue;\n",
    "    private boolean boolValue;\n",
    "    private String stringValue;\n",
    "    private double doubleValue;\n",
    "\n",
    "    public MyClass(int intValue, boolean boolValue, String stringValue, double doubleValue) {\n",
    "        this.intValue = intValue;\n",
    "        this.boolValue = boolValue;\n",
    "        this.stringValue = stringValue;\n",
    "        this.doubleValue = doubleValue;\n",
    "    }\n",
    "\n",
    "    public void printValues() {\n",
    "        System.out.println(\"Int: \" + intValue);\n",
    "        System.out.println(\"Boolean: \" + boolValue);\n",
    "        System.out.println(\"String: \" + stringValue);\n",
    "        System.out.println(\"Double: \" + doubleValue);\n",
    "    }\n",
    "    \n",
    "    public static void main(String[] args) {\n",
    "        MyClass obj = new MyClass(42, true, \"Hello\", 3.14);\n",
    "        obj.printValues();\n",
    "    }\n",
    "}\n"
   ]
  },
  {
   "cell_type": "markdown",
   "metadata": {},
   "source": [
    "# HACK 4"
   ]
  },
  {
   "cell_type": "code",
   "execution_count": 1,
   "metadata": {
    "vscode": {
     "languageId": "java"
    }
   },
   "outputs": [],
   "source": [
    "public class NameParser {\n",
    "    private String fullName;\n",
    "\n",
    "    public NameParser(String fullName) {\n",
    "        this.fullName = fullName;\n",
    "    }\n",
    "\n",
    "    public String getFirstName() {\n",
    "        int spaceIndex = fullName.indexOf(' ');\n",
    "        if (spaceIndex != -1) {\n",
    "            return fullName.substring(0, spaceIndex);\n",
    "        } else {\n",
    "            // Handle invalid name format\n",
    "            return \"Invalid\";\n",
    "        }\n",
    "    }\n",
    "\n",
    "    public String getLastName() {\n",
    "        int spaceIndex = fullName.indexOf(' ');\n",
    "        if (spaceIndex != -1) {\n",
    "            return fullName.substring(spaceIndex + 1);\n",
    "        } else {\n",
    "            // Handle invalid name format\n",
    "            return \"Invalid\";\n",
    "        }\n",
    "    }\n",
    "\n",
    "    public static void main(String[] args) {\n",
    "        NameParser parser = new NameParser(\"John Doe\");\n",
    "        System.out.println(\"First Name: \" + parser.getFirstName());\n",
    "        System.out.println(\"Last Name: \" + parser.getLastName());\n",
    "    }\n",
    "}\n"
   ]
  }
 ],
 "metadata": {
  "kernelspec": {
   "display_name": "Java",
   "language": "java",
   "name": "java"
  },
  "language_info": {
   "codemirror_mode": "java",
   "file_extension": ".jshell",
   "mimetype": "text/x-java-source",
   "name": "Java",
   "pygments_lexer": "java",
   "version": "17.0.8+7-Ubuntu-122.04"
  },
  "orig_nbformat": 4
 },
 "nbformat": 4,
 "nbformat_minor": 2
}
