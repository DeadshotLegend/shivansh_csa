{
 "cells": [
  {
   "cell_type": "markdown",
   "metadata": {},
   "source": [
    "---\n",
    "layout: post\n",
    "title: FRQ Mini-Lab Review\n",
    "type: tangibles\n",
    "courses: { 'csa': {'week':4 }}\n",
    "---"
   ]
  },
  {
   "cell_type": "markdown",
   "metadata": {},
   "source": [
    "## Summary on Work Accomplished\n",
    "\n",
    "\n"
   ]
  },
  {
   "cell_type": "markdown",
   "metadata": {},
   "source": [
    "Overall my video was very informational and dutiful, I could have cut 7 seconds here and there, however my bigger laptop which has davinci resolve video editor is not available on this computer.\n",
    "\n",
    "## Collaboration with Crossover Team\n",
    "\n",
    "\n",
    "\n",
    "### What they said was good\n",
    "\n",
    "They said my FRQ notebook was complete, I fully explained:\n",
    "- The basic function and explanation of 2D arrays\n",
    "- The FRQ I chose and the questions they asked\n",
    "- My solutions and output\n",
    "- What college board expects\n",
    "\n",
    "### What they said was bad\n",
    "\n",
    "I took a little too long, like around 3 minutes to explain everything.\n",
    "\n",
    "### What I did to improve the bad\n",
    "\n",
    "I kept everything more concise, keeping only useful information. As per code explanation I explained the overall function of each part of the method rather than going over each bit of functionality."
   ]
  },
  {
   "cell_type": "markdown",
   "metadata": {},
   "source": [
    "### Grading\n",
    "\n",
    "## Kevin - 0.85/1.0\n",
    "- Show in depth approach of code\n",
    "- Took too long to explain\n",
    "- Couldn't explain well\n",
    "\n",
    "## Aniket - 0.9/1.0\n",
    "\n",
    "- Explained well, in itime\n",
    "- Solid description of showing and tying back to the scoring guidelines\n",
    "\n",
    "## Soham  - 0.9/1.0\n",
    "\n",
    "\n",
    "- Explained well, in itime\n",
    "- Solid description of showing and tying back to the scoring guidelines\n",
    "\n",
    "## Orlando - 0.85/1\n",
    "\n",
    "- Didn't do assignment properly"
   ]
  }
 ],
 "metadata": {
  "language_info": {
   "name": "python"
  },
  "orig_nbformat": 4
 },
 "nbformat": 4,
 "nbformat_minor": 2
}
