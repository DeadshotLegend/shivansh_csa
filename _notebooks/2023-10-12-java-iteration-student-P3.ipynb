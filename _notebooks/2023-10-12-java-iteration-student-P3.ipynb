{
 "cells": [
  {
   "cell_type": "markdown",
   "metadata": {},
   "source": [
    "---\n",
    "toc: true\n",
    "comments: true\n",
    "layout: post\n",
    "title: U4|Iteration|Student-P3\n",
    "description: Lesson for APCSA Unit 4... while Loops, for Loops, Developing Algorithms Using Strings, Nested Iteration, Informal code analysis >>> AP Exam Weighting 17.5-22.5%\n",
    "type: ccc\n",
    "courses: { csa: {week: 8} }\n",
    "authors: Adan, Toby, Edwin\n",
    "---"
   ]
  },
  {
   "cell_type": "markdown",
   "metadata": {},
   "source": [
    "# Iteration\n",
    "According to CollegeBoard, **Iteration** is a way to simplify code that would otherwise be repeated many times in succession. Using loops, we can finally implement complex algorithms and solutions to common problems that we weren't able to before.\n",
    "\n",
    "Iteration is repeating sequences to simplify code of advanced algorithms\n",
    "\n",
    "Iteration accounts for **17.5%-22.5%** of the APCSA AP Exam"
   ]
  },
  {
   "cell_type": "markdown",
   "metadata": {},
   "source": [
    "# 4.1: WHILE LOOPS\n",
    "**Learning Objective**: Represent Iterative Processes using a <code>while</code> loop\n",
    "\n",
    "Question: What is a loop and what are some real life examples of this (Setting a Song to repeat on your music player)\n",
    "\n",
    "You know the <code>i</code> variable that you use for while/for loops? It actually has a name, loop control variable"
   ]
  },
  {
   "cell_type": "code",
   "execution_count": null,
   "metadata": {
    "vscode": {
     "languageId": "java"
    }
   },
   "outputs": [],
   "source": [
    "int i = 0; // initialize loop control variable\n",
    "while (i < 10)  // checks the loop control variable\n",
    "{\n",
    "    System.out.println(\"Doing some code\");\n",
    "    i++;  // update the loop control variable\n",
    "}"
   ]
  },
  {
   "cell_type": "code",
   "execution_count": 1,
   "metadata": {
    "vscode": {
     "languageId": "java"
    }
   },
   "outputs": [
    {
     "name": "stdout",
     "output_type": "stream",
     "text": [
      "0\n",
      "1\n",
      "2\n",
      "3\n",
      "4\n"
     ]
    }
   ],
   "source": [
    "for (int i = 0; i < 5; i++) {\n",
    "    System.out.println(i);\n",
    "}\n"
   ]
  },
  {
   "cell_type": "code",
   "execution_count": null,
   "metadata": {
    "vscode": {
     "languageId": "java"
    }
   },
   "outputs": [],
   "source": [
    "int i = 0;\n",
    "while (i < 5) { System.out.println(i);\n",
    "i++;\n",
    "}"
   ]
  },
  {
   "cell_type": "markdown",
   "metadata": {},
   "source": [
    "## Infinite loop  \n",
    "An infinite loop is when a while loop always evaluates to true. avoid this when you can because it's probably not good for your computer. if this happens by accident, I recommend copying all code in the block and deleting the block. After you delete the code block, close and reopen the tab that the code block was in.\n",
    "\n",
    "**What's wrong with this code block?**"
   ]
  },
  {
   "cell_type": "code",
   "execution_count": 1,
   "metadata": {
    "vscode": {
     "languageId": "java"
    }
   },
   "outputs": [],
   "source": [
    "while (true)\n",
    "{\n",
    "    System.out.print(\"CONTROL \");\n",
    "}\n",
    "// DO NOT RUN THE CODE"
   ]
  },
  {
   "cell_type": "markdown",
   "metadata": {},
   "source": [
    "This code is an infinite loop, it will never end eventually crashing the system."
   ]
  },
  {
   "cell_type": "markdown",
   "metadata": {},
   "source": [
    "## Do While loop\n",
    "  \n",
    "**What will this code block output?**\n",
    "\n",
    "Quite Shrimple."
   ]
  },
  {
   "cell_type": "code",
   "execution_count": 3,
   "metadata": {
    "vscode": {
     "languageId": "java"
    }
   },
   "outputs": [
    {
     "name": "stdout",
     "output_type": "stream",
     "text": [
      "Quite shrimple. "
     ]
    }
   ],
   "source": [
    "// Quite shrimple\n",
    "int i = 0;\n",
    "do \n",
    "{\n",
    "    System.out.print(\"Quite shrimple. \");\n",
    "    i++;\n",
    "}\n",
    "while (i < -5);"
   ]
  },
  {
   "cell_type": "markdown",
   "metadata": {},
   "source": [
    "In a do while loop, it will run the \"do\" once before it reaches the \"while\", and at that point it will start to act like a while loop."
   ]
  },
  {
   "cell_type": "markdown",
   "metadata": {},
   "source": [
    "## For loop\n",
    "this is the standard structure of a for loop"
   ]
  },
  {
   "cell_type": "code",
   "execution_count": null,
   "metadata": {
    "vscode": {
     "languageId": "java"
    }
   },
   "outputs": [],
   "source": [
    "for (initialization; Boolean expression; update)\n",
    "{\n",
    "    System.out.println(\"Doing some code\");\n",
    "}"
   ]
  },
  {
   "cell_type": "markdown",
   "metadata": {},
   "source": [
    "Initialization will run at the start of the loop, boolean expression will get checked with every loop, and update runs after every loop.\n",
    "\n",
    "**How many times will this code print \"Doing some code?\"**\n",
    "\n",
    "5 times"
   ]
  },
  {
   "cell_type": "code",
   "execution_count": 2,
   "metadata": {
    "vscode": {
     "languageId": "java"
    }
   },
   "outputs": [
    {
     "name": "stdout",
     "output_type": "stream",
     "text": [
      "Doing some code\n",
      "Doing some code\n",
      "Doing some code\n",
      "Doing some code\n",
      "Doing some code\n"
     ]
    }
   ],
   "source": [
    "for (int num = 1; num <= 5; num++)\n",
    "{\n",
    "    System.out.println(\"Doing some code\");\n",
    "}"
   ]
  },
  {
   "cell_type": "markdown",
   "metadata": {},
   "source": [
    "In this code, it creates the variable *num* at the start of the loop, it checks if *num* is less than or equal to 5 after each loop, and it adds 1 to *num* after each loop."
   ]
  },
  {
   "cell_type": "markdown",
   "metadata": {},
   "source": [
    "## Enhanced for loop  \n",
    "this is essentially a javascript for loop, as it will iterate through a list and run code in the loop to each variable inside the list"
   ]
  },
  {
   "cell_type": "code",
   "execution_count": 3,
   "metadata": {
    "vscode": {
     "languageId": "java"
    }
   },
   "outputs": [
    {
     "name": "stdout",
     "output_type": "stream",
     "text": [
      "1 4 6 2 "
     ]
    }
   ],
   "source": [
    "int[] list = {1, 4, 6, 2};\n",
    "for (int j : list)\n",
    "{\n",
    "    System.out.print(j);\n",
    "    System.out.print(\" \");\n",
    "}"
   ]
  },
  {
   "cell_type": "markdown",
   "metadata": {},
   "source": [
    "## Break and Continue\n",
    "In java there are breaks, but there are also continues.\n",
    "\n",
    "### Break  \n",
    "Breaks, as you likely already know, end a loop. They tend to be used with an *if* statement\n",
    "\n",
    "**How many times will this code print \"Big guy?\"**\n",
    "\n",
    "5 times"
   ]
  },
  {
   "cell_type": "code",
   "execution_count": 4,
   "metadata": {
    "vscode": {
     "languageId": "java"
    }
   },
   "outputs": [
    {
     "name": "stdout",
     "output_type": "stream",
     "text": [
      "Big guy\n",
      "Big guy\n",
      "Big guy\n",
      "Big guy\n",
      "Big guy\n"
     ]
    }
   ],
   "source": [
    "int i = 0; \n",
    "while (i < 10) \n",
    "{\n",
    "    System.out.println(\"Big guy\");\n",
    "    i++;  \n",
    "    if (i == 5) {\n",
    "        break;\n",
    "    }\n",
    "}"
   ]
  },
  {
   "cell_type": "markdown",
   "metadata": {},
   "source": [
    "### Continue  \n",
    "Continue will skip code for an iteration, but will still keep the loop running"
   ]
  },
  {
   "cell_type": "code",
   "execution_count": 5,
   "metadata": {
    "vscode": {
     "languageId": "java"
    }
   },
   "outputs": [
    {
     "name": "stdout",
     "output_type": "stream",
     "text": [
      "0\n",
      "1\n",
      "2\n",
      "3\n",
      "4\n",
      "\n",
      "6\n",
      "7\n",
      "8\n",
      "9\n"
     ]
    }
   ],
   "source": [
    "int i = 0; \n",
    "while (i < 10) \n",
    "{\n",
    "    if (i == 5) {\n",
    "        i++; // don't forget this, it creates an error similar to an infinite loop\n",
    "        System.out.println(\"\");\n",
    "        continue;\n",
    "    }\n",
    "    System.out.println(i);\n",
    "    i++;  \n",
    "}"
   ]
  },
  {
   "cell_type": "markdown",
   "metadata": {},
   "source": [
    "# 4.3: Developing Algorithms Using Strings\n",
    "**Learning Objective**: For algorithms in the context of a particular specification that involves <code>String</code> objects:"
   ]
  },
  {
   "cell_type": "markdown",
   "metadata": {},
   "source": [
    "### Methods in Java that help to MANIPULATE STRINGS\n",
    "- String.substring - Retrieves a particular portion of a String\n",
    "- String.equals - Comparees the content of two strings\n",
    "- String.length - Returns the length of a String"
   ]
  },
  {
   "cell_type": "code",
   "execution_count": 6,
   "metadata": {
    "vscode": {
     "languageId": "java"
    }
   },
   "outputs": [
    {
     "name": "stdout",
     "output_type": "stream",
     "text": [
      "Common Prefix: C\n",
      "Common Prefix: Co\n",
      "Common Prefix: Cod\n",
      "Common Prefix: Codi\n",
      "Common Prefix: Codin\n",
      "Common Prefix: Coding\n",
      "Common Prefix: Coding \n",
      "Common Prefix: Coding i\n",
      "Common Prefix: Coding is\n",
      "Common Prefix: Coding is \n",
      "Common Prefix: Coding is c\n",
      "Common Prefix: Coding is co\n"
     ]
    }
   ],
   "source": [
    "public class Compare {\n",
    "    public static void main(String[] args) {\n",
    "        String string1 = \"Coding is cool!\";\n",
    "        String string2 = \"Coding is coding!\";\n",
    "\n",
    "        int minLength = Math.min(string1.length(), string2.length());\n",
    "\n",
    "        for (int i = 0; i < minLength; i++) {\n",
    "            String subString1 = string1.substring(0, i + 1);\n",
    "            String subString2 = string2.substring(0, i + 1);\n",
    "\n",
    "            if (subString1.equals(subString2)) {\n",
    "                System.out.println(\"Common Prefix: \" + subString2);\n",
    "            }\n",
    "        }\n",
    "    }\n",
    "}\n",
    "Compare.main(null)"
   ]
  },
  {
   "cell_type": "markdown",
   "metadata": {},
   "source": [
    "**Where are the 3 methods in the above Java Cell and how do they contribute to the program's functionality?**\n",
    "\n",
    "main Method: The main method is the main entry point of the Java program. It's a special method that gets executed when you run the program. In this method, the following actions are performed:\n",
    "\n",
    "Two strings, string1 and string2, are defined with some sample text.\n",
    "\n",
    "The minLength variable is calculated as the minimum length between string1 and string2. This is done using the Math.min method to ensure that we don't attempt to access characters beyond the length of the shorter string.\n",
    "\n",
    "A for loop is used to iterate from i = 0 to i = minLength - 1.\n",
    "\n",
    "Inside the loop, two substrings, subString1 and subString2, are created by taking a substring of the original strings from index 0 to i + 1.\n",
    "An if condition checks if subString1 and subString2 are equal (i.e., they have a common prefix). If they are equal, it prints a message indicating the common prefix.\n"
   ]
  },
  {
   "cell_type": "code",
   "execution_count": 7,
   "metadata": {
    "vscode": {
     "languageId": "java"
    }
   },
   "outputs": [
    {
     "name": "stdout",
     "output_type": "stream",
     "text": [
      "The Number of vowels in \"supercalifragilisticexpialidocious\" is 16\n"
     ]
    }
   ],
   "source": [
    "String word = \"supercalifragilisticexpialidocious\";\n",
    "int count = 0;\n",
    "\n",
    "for (int i = 0; i < word.length(); i++) {\n",
    "    char letter = word.charAt(i);\n",
    "    if (letter == 'a' || letter == 'e' || letter == 'i' || letter == 'o' || letter == 'u') {\n",
    "        count++;\n",
    "    }\n",
    "}\n",
    "\n",
    "System.out.println(\"The Number of vowels in \\\"\" + word + \"\\\" is \" + count);\n"
   ]
  },
  {
   "cell_type": "markdown",
   "metadata": {},
   "source": [
    "**What does word.length() do and how do we use it above?**  \n",
    "\n",
    "It is used to determine the legnth of the String word. We use it here in the for loop as a loop variable\n",
    "\n",
    "**What Boolean Operator is used?**\n",
    "false"
   ]
  },
  {
   "cell_type": "code",
   "execution_count": 18,
   "metadata": {
    "vscode": {
     "languageId": "java"
    }
   },
   "outputs": [
    {
     "name": "stdout",
     "output_type": "stream",
     "text": [
      "We found the Smaller String!\n"
     ]
    }
   ],
   "source": [
    "public class Main {\n",
    "    public static void main(String[] args) {\n",
    "        String word = \"Scooby Doo\";\n",
    "        String sub = \"Doo\";\n",
    "        boolean found = false;\n",
    "\n",
    "        for (int i = 0; i <= word.length() - sub.length(); i++) {\n",
    "            String portion = word.substring(i, i + sub.length());\n",
    "            if (portion.equals(sub)) {\n",
    "                found = true;\n",
    "            }\n",
    "        }\n",
    "        if (found) {\n",
    "            System.out.println(\"We found the Smaller String!\");\n",
    "        } else {\n",
    "            System.out.println(\"We did not find the Smaller String! \\t Ruh Roh!\");\n",
    "        }\n",
    "    }\n",
    "}\n",
    "Main.main(null)"
   ]
  },
  {
   "cell_type": "markdown",
   "metadata": {},
   "source": [
    "### String concatenation\n",
    "String concatenation is when you want to add to strings together"
   ]
  },
  {
   "cell_type": "code",
   "execution_count": null,
   "metadata": {
    "vscode": {
     "languageId": "java"
    }
   },
   "outputs": [],
   "source": [
    "String original = \"String\";\n",
    "String reversed = \"\";\n",
    "for (int i = 0; i < original.length(); i++)\n",
    "{\n",
    "    String single = original.substring(i,i+1);\n",
    "    reversed = single + reversed;\n",
    "}\n",
    "System.out.println(\"Original String: \" + original);\n",
    "System.out.println(\"Reversed String: \" + reversed);\n"
   ]
  },
  {
   "cell_type": "markdown",
   "metadata": {},
   "source": [
    "# 4.4: Nested Iteration\n",
    "**Learning Objective**: Represent nested iteration processes\n",
    "\n",
    "Essential Knowledge:\n",
    "- Nested iteration is when an iteration statement appears inside the body of another iteration statement\n",
    "- The inner loop must complete all of its iterations before the outer loop can continue. \n",
    "\n",
    "**Before uncommenting the code, guess what the output will look like:**\n",
    "\n",
    "\n",
    "1  2\n",
    "\n",
    "1  2\n",
    "\n",
    "1  2\n",
    "\n",
    "1  2"
   ]
  },
  {
   "cell_type": "code",
   "execution_count": 12,
   "metadata": {
    "vscode": {
     "languageId": "java"
    }
   },
   "outputs": [
    {
     "name": "stdout",
     "output_type": "stream",
     "text": [
      "1 1 1 1 \n",
      "2 2 2 2 \n"
     ]
    }
   ],
   "source": [
    "public class NestedLoops {\n",
    "\n",
    "    public static void main(String[] args) {\n",
    "\n",
    "        for (int inner = 1; inner < 3; inner++) {\n",
    "\n",
    "            for (int outer = 1; outer < 5; outer++) {\n",
    "                System.out.print(inner + \" \");\n",
    "            }\n",
    "\n",
    "            System.out.println();\n",
    "\n",
    "        }\n",
    "\n",
    "    }\n",
    "}\n",
    "\n",
    "NestedLoops.main(null)"
   ]
  },
  {
   "cell_type": "markdown",
   "metadata": {},
   "source": [
    "**What will the output of the code above be if we switch the loop headers (the stuff inside of the for loop)?**\n",
    "\n",
    "1 1 1 1 \n",
    "\n",
    "2 2 2 2 \n",
    "\n",
    "**After making a prediction actually switch the loop headers for yourself. What do you notice about the output compared to the output before the change?**\n",
    "\n",
    "It changed the organization of the output, first it was a 4 by 2 not it is a 2 by 4"
   ]
  },
  {
   "cell_type": "markdown",
   "metadata": {},
   "source": [
    "# 4.5: Informal Code Analysis\n",
    "\n",
    "Essential Knowledge:\n",
    "- A statement exectution count indicates the number of times a statement is executed by the program\n",
    "\n"
   ]
  },
  {
   "cell_type": "code",
   "execution_count": 14,
   "metadata": {
    "vscode": {
     "languageId": "java"
    }
   },
   "outputs": [],
   "source": [
    "for (int outer = 0; outer < 3; outer++){\n",
    "    for (int inner = 0; inner < 4; inner++){\n",
    "        // statement #1\n",
    "    }\n",
    "}"
   ]
  },
  {
   "cell_type": "markdown",
   "metadata": {},
   "source": [
    "**In the code above, how many times will the inner loop execute when outer = 0?** 4\n",
    "\n",
    "**In the code above, how many times will the inner loop execute when outer = 1?** 4  \n",
    "\n",
    "**In the code above, how many times will the inner loop execute when outer = 2?** 4  \n",
    "\n",
    "**In the code above, how many times will the inner loop execute in total?** 12\n"
   ]
  },
  {
   "cell_type": "code",
   "execution_count": null,
   "metadata": {
    "vscode": {
     "languageId": "java"
    }
   },
   "outputs": [],
   "source": [
    "for (int outer = 5; outer > 0; outer--){\n",
    "    for (int inner = 0; inner < outer; inner++){\n",
    "        // statement #1\n",
    "    }\n",
    "}"
   ]
  },
  {
   "cell_type": "markdown",
   "metadata": {},
   "source": [
    "**In the code above, how many times will the inner loop execute when outer = 5?** 5  \n",
    "\n",
    "**In the code above, how many times will the inner loop execute when outer = 4?** 4  \n",
    "\n",
    "**In the code above, how many times will the inner loop execute when outer = 3?** 3  \n",
    "\n",
    "**In the code above, how many times will the inner loop execute in total?** 12"
   ]
  },
  {
   "cell_type": "code",
   "execution_count": null,
   "metadata": {
    "vscode": {
     "languageId": "java"
    }
   },
   "outputs": [],
   "source": [
    "int k = 0;\n",
    "while (k < 5){\n",
    "    int x = (int)(Math.random()*6) + 1;\n",
    "    while (x != 6){\n",
    "        //statement #1\n",
    "        x = (int)(Math.random()*6) + 1;\n",
    "    }\n",
    "    k++;\n",
    "}"
   ]
  },
  {
   "cell_type": "markdown",
   "metadata": {},
   "source": [
    "**In the code above, how many times will the statement #1 execute?** 6"
   ]
  },
  {
   "cell_type": "code",
   "execution_count": null,
   "metadata": {
    "vscode": {
     "languageId": "java"
    }
   },
   "outputs": [],
   "source": [
    "for (int k = 0; k < 135; k++){\n",
    "    if (k % 5 == 0){ // Statement #1\n",
    "        System.out.print(k); // Statement #2\n",
    "    }\n",
    "}"
   ]
  },
  {
   "cell_type": "markdown",
   "metadata": {},
   "source": [
    "**In the code above, how many times will the statement #1 execute?** 135   \n",
    "\n",
    "**In the code above, how many times will the statement #2 execute?** 27\n",
    "\n",
    "Rewrite the code above to be more effecient based on execution count. \n"
   ]
  },
  {
   "cell_type": "code",
   "execution_count": null,
   "metadata": {
    "vscode": {
     "languageId": "java"
    }
   },
   "outputs": [],
   "source": [
    "for (int k = 0; k < 135; k += 5) {\n",
    "    System.out.print(k); // Statement #2\n",
    "}\n"
   ]
  },
  {
   "cell_type": "markdown",
   "metadata": {},
   "source": [
    "In this optimized code, the loop will start at 0 and increment k by 5 in each iteration, ensuring that k takes values 0, 5, 10, 15, and so on, up to 135. This reduces the number of iterations from 135 to 27 while still achieving the same result as the original code.\n",
    "\n",
    "\n",
    "\n",
    "\n"
   ]
  },
  {
   "cell_type": "markdown",
   "metadata": {},
   "source": [
    "# HACKS\n",
    "These hacks will be due on Monday (October 16th) before class"
   ]
  },
  {
   "cell_type": "markdown",
   "metadata": {},
   "source": [
    "### Hacks\n",
    "- Finish the popcorn hacks (0.2) - Completed\n",
    "- Rewrite the for loop (0.25) - Completed\n",
    "- Complete the Ceaser Cipher Code (0.45)- Completed\n",
    "\n",
    "ALSO DID EXTRA CREDIT (0.1+) - Completed\n",
    "\n",
    "Overall: 1/1\n"
   ]
  },
  {
   "cell_type": "code",
   "execution_count": 18,
   "metadata": {
    "vscode": {
     "languageId": "java"
    }
   },
   "outputs": [
    {
     "name": "stdout",
     "output_type": "stream",
     "text": [
      "0\n",
      "4\n",
      "8\n",
      "12\n",
      "16\n",
      "20\n",
      "24\n",
      "28\n",
      "32\n",
      "36\n"
     ]
    }
   ],
   "source": [
    "for (int k = 0; k < 40; k++){\n",
    "    if (k % 4 == 0){\n",
    "        System.out.println(k); \n",
    "    }\n",
    "}"
   ]
  },
  {
   "cell_type": "markdown",
   "metadata": {},
   "source": [
    "Rewrite the code above 3 different times\n",
    "- Your code should be more efficient based execution count\n",
    "- Your code should use 3 different types of loops that you learned above (Hint: You may need to use a list)"
   ]
  },
  {
   "cell_type": "code",
   "execution_count": 17,
   "metadata": {
    "vscode": {
     "languageId": "java"
    }
   },
   "outputs": [
    {
     "name": "stdout",
     "output_type": "stream",
     "text": [
      "0\n",
      "4\n",
      "8\n",
      "12\n",
      "16\n",
      "20\n",
      "24\n",
      "28\n",
      "32\n",
      "36\n"
     ]
    }
   ],
   "source": [
    "for (int k = 0; k < 40; k += 4) {\n",
    "    System.out.println(k);\n",
    "}\n"
   ]
  },
  {
   "cell_type": "code",
   "execution_count": 16,
   "metadata": {
    "vscode": {
     "languageId": "java"
    }
   },
   "outputs": [
    {
     "name": "stdout",
     "output_type": "stream",
     "text": [
      "0\n",
      "4\n",
      "8\n",
      "12\n",
      "16\n",
      "20\n",
      "24\n",
      "28\n",
      "32\n",
      "36\n"
     ]
    }
   ],
   "source": [
    "int k = 0;\n",
    "while (k < 40) {\n",
    "    System.out.println(k);\n",
    "    k += 4;\n",
    "}\n"
   ]
  },
  {
   "cell_type": "code",
   "execution_count": 15,
   "metadata": {
    "vscode": {
     "languageId": "java"
    }
   },
   "outputs": [
    {
     "name": "stdout",
     "output_type": "stream",
     "text": [
      "0\n",
      "4\n",
      "8\n",
      "12\n",
      "16\n",
      "20\n",
      "24\n",
      "28\n",
      "32\n",
      "36\n"
     ]
    }
   ],
   "source": [
    "int k = 0;\n",
    "do {\n",
    "    System.out.println(k);\n",
    "    k += 4;\n",
    "} while (k < 40);\n"
   ]
  },
  {
   "cell_type": "markdown",
   "metadata": {},
   "source": [
    "All three versions will produce the same result, printing values at 0, 4, 8, 12, and so on, up to 36, while minimizing the execution count by incrementing k by 4 in each iteration.\n"
   ]
  },
  {
   "cell_type": "markdown",
   "metadata": {},
   "source": [
    "#### Ceaser Cipher Hacks\n",
    "Try to write a cipher program that shifts each letter in a message 3 letters forward. Use any of the methods you learned today. Use it to decode the 3 messages we've given you!"
   ]
  },
  {
   "cell_type": "code",
   "execution_count": null,
   "metadata": {
    "vscode": {
     "languageId": "java"
    }
   },
   "outputs": [],
   "source": [
    "public class CaesarCipher {\n",
    "\n",
    "    public static void main(String[] args) {\n",
    "\n",
    "        String[] letters = {\"a\", \"b\", \"c\", \"d\", \"e\", \"f\", \"g\", \"h\", \"i\", \"j\", \"k\", \"l\", \"m\", \"n\", \"o\", \"p\", \"q\", \"r\", \"s\", \"t\", \"u\", \"v\", \"w\", \"x\", \"y\", \"z\"};\n",
    "        String message1 = \"Kfzb gly!\";\n",
    "        String message2 = \"zlab zlab zlab\";\n",
    "        String message3 = \"prmbozxifcoxdfifpqfzbumfxifalzflrp\";\n",
    "\n",
    "    }\n",
    "}\n"
   ]
  },
  {
   "cell_type": "code",
   "execution_count": 21,
   "metadata": {
    "vscode": {
     "languageId": "java"
    }
   },
   "outputs": [
    {
     "name": "stdout",
     "output_type": "stream",
     "text": [
      "Encoded Message 1: Nice job!\n",
      "Encoded Message 2: code code code\n",
      "Encoded Message 3: supercalifragilisticexpialidocious\n"
     ]
    }
   ],
   "source": [
    "public class CaesarCipher {\n",
    "\n",
    "    public static String encrypt(String message, int shift) {\n",
    "        StringBuilder result = new StringBuilder();\n",
    "\n",
    "        for (int i = 0; i < message.length(); i++) {\n",
    "            char ch = message.charAt(i);\n",
    "\n",
    "            if (Character.isLetter(ch)) {\n",
    "                char base = Character.isLowerCase(ch) ? 'a' : 'A';\n",
    "                ch = (char) (base + (ch - base + shift) % 26);\n",
    "            }\n",
    "\n",
    "            result.append(ch);\n",
    "        }\n",
    "\n",
    "        return result.toString();\n",
    "    }\n",
    "\n",
    "    public static void main(String[] args) {\n",
    "        String message1 = \"Kfzb gly!\";\n",
    "        String message2 = \"zlab zlab zlab\";\n",
    "        String message3 = \"prmbozxifcoxdfifpqfzbumfxifalzflrp\";\n",
    "\n",
    "        int shift = 3; \n",
    "\n",
    "        String encryptedMessage1 = encrypt(message1, shift);\n",
    "        String encryptedMessage2 = encrypt(message2, shift);\n",
    "        String encryptedMessage3 = encrypt(message3, shift);\n",
    "\n",
    "        System.out.println(\"Encoded Message 1: \" + encryptedMessage1);\n",
    "        System.out.println(\"Encoded Message 2: \" + encryptedMessage2);\n",
    "        System.out.println(\"Encoded Message 3: \" + encryptedMessage3);\n",
    "\n",
    "        \n",
    "    }\n",
    "}\n",
    "\n",
    "CaesarCipher.main(null)\n"
   ]
  },
  {
   "cell_type": "markdown",
   "metadata": {},
   "source": [
    "This program defines an encrypt method that takes a message and a shift value as arguments to perform the Caesar cipher encryption or decryption. It handles both uppercase and lowercase letters, and you can use it to encode and decode messages with a specified shift value."
   ]
  },
  {
   "cell_type": "markdown",
   "metadata": {},
   "source": [
    "## Extra Credit NFL Simulation Java Iteration Program that Utilizes do while loops and for loops with if statements"
   ]
  },
  {
   "cell_type": "code",
   "execution_count": 22,
   "metadata": {
    "vscode": {
     "languageId": "java"
    }
   },
   "outputs": [
    {
     "name": "stdout",
     "output_type": "stream",
     "text": [
      "NFL Game Simulation\n",
      "Enter the name of Team 1: Enter the score of Team 1: Enter the name of Team 2: Enter the score of Team 2: It's a tie game!\n",
      "Simulating an overtime scenario...\n",
      "Enter the overtime score of Team 1: Enter the overtime score of Team 2: Bills wins in overtime!\n"
     ]
    }
   ],
   "source": [
    "import java.util.Scanner;\n",
    "\n",
    "public class NFLGameSimulation {\n",
    "\n",
    "    public static void main(String[] args) {\n",
    "        Scanner scanner = new Scanner(System.in);\n",
    "\n",
    "        System.out.println(\"NFL Game Simulation\");\n",
    "\n",
    "        int team1Score, team2Score;\n",
    "        String team1Name, team2Name;\n",
    "\n",
    "        System.out.print(\"Enter the name of Team 1: \");\n",
    "        team1Name = scanner.nextLine();\n",
    "        System.out.print(\"Enter the score of Team 1: \");\n",
    "        team1Score = scanner.nextInt();\n",
    "        scanner.nextLine(); \n",
    "\n",
    "        System.out.print(\"Enter the name of Team 2: \");\n",
    "        team2Name = scanner.nextLine();\n",
    "        System.out.print(\"Enter the score of Team 2: \");\n",
    "        team2Score = scanner.nextInt();\n",
    "\n",
    "        if (team1Score > team2Score) {\n",
    "            System.out.println(team1Name + \" wins the game!\");\n",
    "        } else if (team2Score > team1Score) {\n",
    "            System.out.println(team2Name + \" wins the game!\");\n",
    "        } else {\n",
    "            System.out.println(\"It's a tie game!\");\n",
    "        }\n",
    "\n",
    "        System.out.println(\"Simulating an overtime scenario...\");\n",
    "        int overtime = 0;\n",
    "        do {\n",
    "            if (overtime > 0) {\n",
    "                System.out.println(\"Still tied! Going to overtime #\" + overtime);\n",
    "            }\n",
    "            int team1Overtime, team2Overtime;\n",
    "            System.out.print(\"Enter the overtime score of Team 1: \");\n",
    "            team1Overtime = scanner.nextInt();\n",
    "            System.out.print(\"Enter the overtime score of Team 2: \");\n",
    "            team2Overtime = scanner.nextInt();\n",
    "\n",
    "            team1Score += team1Overtime;\n",
    "            team2Score += team2Overtime;\n",
    "\n",
    "            if (team1Score > team2Score) {\n",
    "                System.out.println(team1Name + \" wins in overtime!\");\n",
    "            } else if (team2Score > team1Score) {\n",
    "                System.out.println(team2Name + \" wins in overtime!\");\n",
    "            } else {\n",
    "                System.out.println(\"Overtime ends in a tie!\");\n",
    "            }\n",
    "\n",
    "            overtime++;\n",
    "        } while (team1Score == team2Score);\n",
    "\n",
    "        scanner.close();\n",
    "    }\n",
    "}\n",
    "\n",
    "NFLGameSimulation.main(null)\n"
   ]
  },
  {
   "cell_type": "markdown",
   "metadata": {},
   "source": [
    "In this program, you can input the names and scores of two NFL teams, and it will determine the game outcome and simulate overtime scenarios if the game is tied. It uses do-while for the overtime simulation and if statements to check the game result.\n",
    "\n",
    "\n",
    "\n",
    "\n"
   ]
  }
 ],
 "metadata": {
  "kernelspec": {
   "display_name": "Java",
   "language": "java",
   "name": "java"
  },
  "language_info": {
   "codemirror_mode": "java",
   "file_extension": ".jshell",
   "mimetype": "text/x-java-source",
   "name": "Java",
   "pygments_lexer": "java",
   "version": "17.0.8+7-Ubuntu-122.04"
  }
 },
 "nbformat": 4,
 "nbformat_minor": 2
}
